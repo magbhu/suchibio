{
 "cells": [
  {
   "cell_type": "code",
   "execution_count": 1,
   "id": "bc5e2053",
   "metadata": {},
   "outputs": [],
   "source": [
    "import sys"
   ]
  },
  {
   "cell_type": "code",
   "execution_count": 2,
   "id": "557be3e8",
   "metadata": {},
   "outputs": [],
   "source": [
    "if len(sys.argv) == 1:\n",
    "    print('Please provide a command line argument as a file name!')\n",
    "    sys.exit()\n",
    "else:\n",
    "    myfile = sys.argv[1]"
   ]
  },
  {
   "cell_type": "code",
   "execution_count": 3,
   "id": "bf6e3ff7",
   "metadata": {},
   "outputs": [],
   "source": [
    "sequence = ''"
   ]
  },
  {
   "cell_type": "code",
   "execution_count": 4,
   "id": "3d1ebc10",
   "metadata": {},
   "outputs": [
    {
     "name": "stdout",
     "output_type": "stream",
     "text": [
      "ATGGGTGGCGGAGGGTGAxxxACCATG\n"
     ]
    }
   ],
   "source": [
    "myfile='Rosetta_partial.fasta'\n",
    "try:\n",
    "    with open(myfile, 'r') as f:\n",
    "        for line in f:\n",
    "            if '>' not in line:\n",
    "                sequence = sequence + line.strip()\n",
    "except OSError as oserr:\n",
    "    print('OS error:', oserr)\n",
    "else:\n",
    "    print(sequence)"
   ]
  },
  {
   "cell_type": "code",
   "execution_count": null,
   "id": "97423f7c",
   "metadata": {},
   "outputs": [],
   "source": [
    " References:\n",
    "# https://docs.python.org/3/tutorial/inputoutput.html#reading-and-writing-files\n",
    "# https://docs.python.org/3/library/functions.html#open\n",
    "# https://docs.python.org/3/library/stdtypes.html#str.strip"
   ]
  },
  {
   "cell_type": "code",
   "execution_count": null,
   "id": "13c83340",
   "metadata": {},
   "outputs": [],
   "source": [
    "# https://en.wikipedia.org/wiki/BRCA2\n",
    "# http://www.ncbi.nlm.nih.gov/nuccore/XM_002295694.2?report=fasta"
   ]
  }
 ],
 "metadata": {
  "kernelspec": {
   "display_name": "Python 3 (ipykernel)",
   "language": "python",
   "name": "python3"
  },
  "language_info": {
   "codemirror_mode": {
    "name": "ipython",
    "version": 3
   },
   "file_extension": ".py",
   "mimetype": "text/x-python",
   "name": "python",
   "nbconvert_exporter": "python",
   "pygments_lexer": "ipython3",
   "version": "3.11.3"
  }
 },
 "nbformat": 4,
 "nbformat_minor": 5
}

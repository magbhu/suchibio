{
 "cells": [
  {
   "cell_type": "code",
   "execution_count": 1,
   "id": "00123ef9",
   "metadata": {},
   "outputs": [],
   "source": [
    "def DNAtoRNA(dna):\n",
    "    '''\n",
    "    Converts DNA string to RNA string.\n",
    " \n",
    "    Parameters: DNA sequence as a string\n",
    "    Return: RNA sequence as a string\n",
    "    '''\n",
    "    transliterate = dna.maketrans('tT', 'uU')\n",
    "    rna = dna.translate(transliterate)\n",
    "    return rna"
   ]
  },
  {
   "cell_type": "code",
   "execution_count": 2,
   "id": "56f4ca76",
   "metadata": {},
   "outputs": [
    {
     "name": "stdout",
     "output_type": "stream",
     "text": [
      "Zika DNA segment is AGTTGTTGATCTGTGTGAGTCAGACTGCG\n"
     ]
    }
   ],
   "source": [
    "# Can access the doctring ''' ... ''' with print(DNAtoRNA.__doc__)\n",
    " \n",
    "zika_DNA = 'AGTTGTTGATCTGTGTGAGTCAGACTGCG'\n",
    "print('Zika DNA segment is', zika_DNA)"
   ]
  },
  {
   "cell_type": "code",
   "execution_count": 3,
   "id": "80dc8670",
   "metadata": {},
   "outputs": [
    {
     "name": "stdout",
     "output_type": "stream",
     "text": [
      "Zika RNA segment is AGUUGUUGAUCUGUGUGAGUCAGACUGCG\n"
     ]
    }
   ],
   "source": [
    "zika_RNA = DNAtoRNA(zika_DNA);\n",
    "print('Zika RNA segment is', zika_RNA)"
   ]
  },
  {
   "cell_type": "code",
   "execution_count": 4,
   "id": "58cad4f0",
   "metadata": {},
   "outputs": [],
   "source": [
    "# References:\n",
    "# https://docs.python.org/3/tutorial/controlflow.html#defining-functions\n",
    "# https://docs.python.org/3/reference/compound_stmts.html#function-definitions\n",
    "# https://docs.python.org/3/tutorial/controlflow.html#documentation-strings"
   ]
  },
  {
   "cell_type": "code",
   "execution_count": 5,
   "id": "f4d5db86",
   "metadata": {},
   "outputs": [],
   "source": [
    "# http://www.ncbi.nlm.nih.gov/nuccore/226377833?report=fasta"
   ]
  },
  {
   "cell_type": "code",
   "execution_count": null,
   "id": "875dcf0f",
   "metadata": {},
   "outputs": [],
   "source": []
  }
 ],
 "metadata": {
  "kernelspec": {
   "display_name": "Python 3 (ipykernel)",
   "language": "python",
   "name": "python3"
  },
  "language_info": {
   "codemirror_mode": {
    "name": "ipython",
    "version": 3
   },
   "file_extension": ".py",
   "mimetype": "text/x-python",
   "name": "python",
   "nbconvert_exporter": "python",
   "pygments_lexer": "ipython3",
   "version": "3.11.3"
  }
 },
 "nbformat": 4,
 "nbformat_minor": 5
}

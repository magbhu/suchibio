{
 "cells": [
  {
   "cell_type": "code",
   "execution_count": 1,
   "id": "1f11198d",
   "metadata": {},
   "outputs": [
    {
     "name": "stdout",
     "output_type": "stream",
     "text": [
      "Sequence: gggtgcgacgattcattgttttcggacaagtggataggcaaccactaccggtggattgtc\n"
     ]
    }
   ],
   "source": [
    "DNA_seq = 'gggtgcgacgattcattgttttcggacaagtggataggcaaccactaccggtggattgtc'\n",
    "print('Sequence:', DNA_seq)"
   ]
  },
  {
   "cell_type": "code",
   "execution_count": 2,
   "id": "0cb021f5",
   "metadata": {},
   "outputs": [
    {
     "name": "stdout",
     "output_type": "stream",
     "text": [
      "\n"
     ]
    }
   ],
   "source": [
    "# Count the number of codons\n",
    "DNA_length = len(DNA_seq)\n",
    "number_of_codons = int(DNA_length/3)\n",
    "print()"
   ]
  },
  {
   "cell_type": "code",
   "execution_count": 3,
   "id": "9727251a",
   "metadata": {},
   "outputs": [],
   "source": [
    "# Put codons in a list\n",
    "codon_list = []\n",
    "for i in range(number_of_codons):\n",
    "    codon_list.append(DNA_seq[i*3:i*3 + 3])"
   ]
  },
  {
   "cell_type": "code",
   "execution_count": 4,
   "id": "5b73d8b6",
   "metadata": {},
   "outputs": [
    {
     "name": "stdout",
     "output_type": "stream",
     "text": [
      "List of codons: ['ggg', 'tgc', 'gac', 'gat', 'tca', 'ttg', 'ttt', 'tcg', 'gac', 'aag', 'tgg', 'ata', 'ggc', 'aac', 'cac', 'tac', 'cgg', 'tgg', 'att', 'gtc']\n",
      "\n"
     ]
    }
   ],
   "source": [
    "print('List of codons:', codon_list)\n",
    "print()"
   ]
  },
  {
   "cell_type": "code",
   "execution_count": 5,
   "id": "72be2d98",
   "metadata": {},
   "outputs": [],
   "source": [
    "#Create codon counter dictionary (codon : codon_count)\n",
    "codon_counter = {}"
   ]
  },
  {
   "cell_type": "code",
   "execution_count": 6,
   "id": "044508c2",
   "metadata": {},
   "outputs": [],
   "source": [
    "for codon in codon_list:\n",
    "    if codon not in codon_counter:\n",
    "        codon_counter[codon] = 1\n",
    "    else:\n",
    "        codon_counter[codon] += 1"
   ]
  },
  {
   "cell_type": "code",
   "execution_count": 7,
   "id": "3c3fe7cc",
   "metadata": {},
   "outputs": [
    {
     "name": "stdout",
     "output_type": "stream",
     "text": [
      "Codon counter:\n",
      "ggg : 1\n",
      "tgc : 1\n",
      "gac : 2\n",
      "gat : 1\n",
      "tca : 1\n",
      "ttg : 1\n",
      "ttt : 1\n",
      "tcg : 1\n",
      "aag : 1\n",
      "tgg : 2\n",
      "ata : 1\n",
      "ggc : 1\n",
      "aac : 1\n",
      "cac : 1\n",
      "tac : 1\n",
      "cgg : 1\n",
      "att : 1\n",
      "gtc : 1\n"
     ]
    }
   ],
   "source": [
    "# This loop syntax accesses the whole dictionary by looping\n",
    "# over the .items() tuple list, accessing one (key, value)\n",
    "# pair at each step.\n",
    "print('Codon counter:')\n",
    "for key, value in codon_counter.items():\n",
    "    print(key, ':', value)"
   ]
  },
  {
   "cell_type": "code",
   "execution_count": null,
   "id": "ae47a27c",
   "metadata": {},
   "outputs": [],
   "source": [
    "# References:\n",
    "# https://docs.python.org/3/library/stdtypes.html#list\n",
    "# https://docs.python.org/3/library/stdtypes.html#mapping-types-dict"
   ]
  },
  {
   "cell_type": "code",
   "execution_count": 8,
   "id": "1a154c93",
   "metadata": {},
   "outputs": [],
   "source": [
    "# http://www.ncbi.nlm.nih.gov/nuccore/XM_002295694.2?report=fasta\n",
    "# http://www.opensourceshakespeare.org/stats/"
   ]
  }
 ],
 "metadata": {
  "kernelspec": {
   "display_name": "Python 3 (ipykernel)",
   "language": "python",
   "name": "python3"
  },
  "language_info": {
   "codemirror_mode": {
    "name": "ipython",
    "version": 3
   },
   "file_extension": ".py",
   "mimetype": "text/x-python",
   "name": "python",
   "nbconvert_exporter": "python",
   "pygments_lexer": "ipython3",
   "version": "3.11.3"
  }
 },
 "nbformat": 4,
 "nbformat_minor": 5
}

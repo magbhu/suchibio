{
 "cells": [
  {
   "cell_type": "code",
   "execution_count": 1,
   "id": "a6a2e6d8",
   "metadata": {},
   "outputs": [],
   "source": [
    "import sys"
   ]
  },
  {
   "cell_type": "code",
   "execution_count": 4,
   "id": "2e38af2b",
   "metadata": {},
   "outputs": [],
   "source": [
    "if len(sys.argv) == 1:\n",
    "   print('Please provide a command line argument!')\n",
    "   sys.exit()"
   ]
  },
  {
   "cell_type": "code",
   "execution_count": 5,
   "id": "30006bb7",
   "metadata": {},
   "outputs": [
    {
     "name": "stdout",
     "output_type": "stream",
     "text": [
      "sys.argv list: ['D:\\\\anaconda3\\\\Lib\\\\site-packages\\\\ipykernel_launcher.py', '-f', 'C:\\\\Users\\\\Pavithra Magesh\\\\AppData\\\\Roaming\\\\jupyter\\\\runtime\\\\kernel-6ab72476-1eea-48fb-a8c2-5d0e74fe2424.json']\n",
      "The first argument: D:\\anaconda3\\Lib\\site-packages\\ipykernel_launcher.py\n",
      "The second argument: -f\n"
     ]
    }
   ],
   "source": [
    "print('sys.argv list:', sys.argv)\n",
    "print('The first argument:', sys.argv[0])\n",
    "print('The second argument:', sys.argv[1])"
   ]
  },
  {
   "cell_type": "code",
   "execution_count": null,
   "id": "23a3875e",
   "metadata": {},
   "outputs": [],
   "source": [
    "# References:\n",
    "# https://docs.python.org/3/tutorial/interpreter.html#argument-passing\n",
    "# https://docs.python.org/3/library/sys.html\n",
    "# https://docs.python.org/3/using/cmdline.html#command-line-and-environment"
   ]
  }
 ],
 "metadata": {
  "kernelspec": {
   "display_name": "Python 3 (ipykernel)",
   "language": "python",
   "name": "python3"
  },
  "language_info": {
   "codemirror_mode": {
    "name": "ipython",
    "version": 3
   },
   "file_extension": ".py",
   "mimetype": "text/x-python",
   "name": "python",
   "nbconvert_exporter": "python",
   "pygments_lexer": "ipython3",
   "version": "3.11.3"
  }
 },
 "nbformat": 4,
 "nbformat_minor": 5
}

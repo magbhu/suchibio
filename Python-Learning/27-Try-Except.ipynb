{
 "cells": [
  {
   "cell_type": "code",
   "execution_count": 2,
   "id": "4b602e50",
   "metadata": {},
   "outputs": [],
   "source": [
    "import sys"
   ]
  },
  {
   "cell_type": "code",
   "execution_count": 3,
   "id": "bc3e37ea",
   "metadata": {},
   "outputs": [
    {
     "name": "stdout",
     "output_type": "stream",
     "text": [
      "Stop codons: ['TAA', 'TAG', 'TGA']\n"
     ]
    }
   ],
   "source": [
    "stop_codons = ['TAA', 'TAG', 'TGA']\n",
    "print('Stop codons:', stop_codons)"
   ]
  },
  {
   "cell_type": "code",
   "execution_count": null,
   "id": "0c70c2b4",
   "metadata": {},
   "outputs": [],
   "source": [
    "while True:\n",
    "    try:\n",
    "         index = int(input('Please enter the index of a stop codon to print: '))\n",
    "         print('Your codon is', stop_codons[index])\n",
    "    except ValueError as ve:\n",
    "         print(ve, 'Try again...')\n",
    "    except IndexError:\n",
    "         print('Your index', index, 'is out of range. Try again...')\n",
    "    except:\n",
    "         print('Unexpected error:', sys.exc_info()[0])\n",
    "         sys.exit()\n",
    "    else:\n",
    "         print('Good bye!')\n",
    "         break"
   ]
  },
  {
   "cell_type": "code",
   "execution_count": null,
   "id": "c4baed4d",
   "metadata": {},
   "outputs": [],
   "source": [
    "# References:\n",
    "# https://docs.python.org/3/tutorial/errors.html#exceptions\n",
    "# https://docs.python.org/3/reference/compound_stmts.html#the-try-statement\n",
    "# https://docs.python.org/3/library/exceptions.html"
   ]
  },
  {
   "cell_type": "code",
   "execution_count": null,
   "id": "485ef94b",
   "metadata": {},
   "outputs": [],
   "source": []
  }
 ],
 "metadata": {
  "kernelspec": {
   "display_name": "Python 3 (ipykernel)",
   "language": "python",
   "name": "python3"
  },
  "language_info": {
   "codemirror_mode": {
    "name": "ipython",
    "version": 3
   },
   "file_extension": ".py",
   "mimetype": "text/x-python",
   "name": "python",
   "nbconvert_exporter": "python",
   "pygments_lexer": "ipython3",
   "version": "3.11.3"
  }
 },
 "nbformat": 4,
 "nbformat_minor": 5
}

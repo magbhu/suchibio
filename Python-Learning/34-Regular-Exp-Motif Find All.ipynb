{
 "cells": [
  {
   "cell_type": "code",
   "execution_count": 1,
   "id": "07856327",
   "metadata": {},
   "outputs": [],
   "source": [
    "import re\n",
    "import sys"
   ]
  },
  {
   "cell_type": "code",
   "execution_count": 2,
   "id": "b779e57f",
   "metadata": {},
   "outputs": [
    {
     "name": "stdout",
     "output_type": "stream",
     "text": [
      "DNA_sequence: AATGAAGGGCCGCTACGATAAGGAACTTCGTAATTTCAG\n"
     ]
    }
   ],
   "source": [
    "DNA_sequence = 'AATGAAGGGCCGCTACGATAAGGAACTTCGTAATTTCAG'\n",
    "print('DNA_sequence:', DNA_sequence)"
   ]
  },
  {
   "cell_type": "code",
   "execution_count": 3,
   "id": "6ac787fc",
   "metadata": {},
   "outputs": [
    {
     "name": "stdout",
     "output_type": "stream",
     "text": [
      "Motif: (([AT]){3,6})\n"
     ]
    }
   ],
   "source": [
    "motif = r'(([AT]){3,6})'\n",
    "print('Motif:', motif)"
   ]
  },
  {
   "cell_type": "code",
   "execution_count": 4,
   "id": "43d66cfb",
   "metadata": {},
   "outputs": [],
   "source": [
    "# Checking if motif is a valid regular expression\n",
    "try:\n",
    "    re.compile(motif)\n",
    "except:\n",
    "    print('Invalid regular expression, exiting the program!')\n",
    "    sys.exit()"
   ]
  },
  {
   "cell_type": "code",
   "execution_count": 5,
   "id": "28c0b9f8",
   "metadata": {},
   "outputs": [],
   "source": [
    "matches = re.findall(motif, DNA_sequence)"
   ]
  },
  {
   "cell_type": "code",
   "execution_count": 6,
   "id": "72949088",
   "metadata": {},
   "outputs": [
    {
     "name": "stdout",
     "output_type": "stream",
     "text": [
      "List of matches: [('AAT', 'T'), ('ATAA', 'A'), ('TAATTT', 'T')]\n"
     ]
    }
   ],
   "source": [
    "if matches:\n",
    "    print('List of matches:', matches)\n",
    "else:\n",
    "    print('Did not find any match.')"
   ]
  },
  {
   "cell_type": "code",
   "execution_count": 7,
   "id": "2e9c4f06",
   "metadata": {},
   "outputs": [],
   "source": [
    "# References:\n",
    "# https://docs.python.org/3/library/re.html#re.findall\n",
    "# https://docs.python.org/3/library/re.html#module-re\n",
    "# https://docs.python.org/3/library/re.html#raw-string-notation\n",
    "# https://docs.python.org/3/library/re.html#re.compile"
   ]
  },
  {
   "cell_type": "code",
   "execution_count": null,
   "id": "f461197c",
   "metadata": {},
   "outputs": [],
   "source": [
    "# http://www.ncbi.nlm.nih.gov/nuccore/XM_002295694.2?report=fasta"
   ]
  }
 ],
 "metadata": {
  "kernelspec": {
   "display_name": "Python 3 (ipykernel)",
   "language": "python",
   "name": "python3"
  },
  "language_info": {
   "codemirror_mode": {
    "name": "ipython",
    "version": 3
   },
   "file_extension": ".py",
   "mimetype": "text/x-python",
   "name": "python",
   "nbconvert_exporter": "python",
   "pygments_lexer": "ipython3",
   "version": "3.11.3"
  }
 },
 "nbformat": 4,
 "nbformat_minor": 5
}

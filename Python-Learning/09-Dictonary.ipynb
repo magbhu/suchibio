{
 "cells": [
  {
   "cell_type": "code",
   "execution_count": 1,
   "id": "0e185d50",
   "metadata": {},
   "outputs": [],
   "source": [
    "restriction_enzymes = {'EcoRI' : 'GAATTC',\n",
    "                        'AluI' : 'AGCT',\n",
    "                        'NotI' : 'GCGGCCGC',\n",
    "                        'TaqI' : 'TCGA'\n",
    "                      }"
   ]
  },
  {
   "cell_type": "code",
   "execution_count": 2,
   "id": "b6561dc5",
   "metadata": {},
   "outputs": [
    {
     "name": "stdout",
     "output_type": "stream",
     "text": [
      "{'EcoRI': 'GAATTC', 'AluI': 'AGCT', 'NotI': 'GCGGCCGC', 'TaqI': 'TCGA'}\n",
      "\n"
     ]
    }
   ],
   "source": [
    "print(restriction_enzymes)\n",
    "print()"
   ]
  },
  {
   "cell_type": "code",
   "execution_count": 3,
   "id": "a6977d40",
   "metadata": {},
   "outputs": [
    {
     "name": "stdout",
     "output_type": "stream",
     "text": [
      "Keys as a list: ['EcoRI', 'AluI', 'NotI', 'TaqI']\n"
     ]
    }
   ],
   "source": [
    "# To get a list of keys from a dictionary view object\n",
    "keys = list(restriction_enzymes.keys())\n",
    "print('Keys as a list:', keys)"
   ]
  },
  {
   "cell_type": "code",
   "execution_count": 4,
   "id": "0a5b19ca",
   "metadata": {},
   "outputs": [
    {
     "name": "stdout",
     "output_type": "stream",
     "text": [
      "Values as a list: ['GAATTC', 'AGCT', 'GCGGCCGC', 'TCGA']\n"
     ]
    }
   ],
   "source": [
    "# To get a list of values from a dictionary view object\n",
    "values = list(restriction_enzymes.values())\n",
    "print('Values as a list:', values)"
   ]
  },
  {
   "cell_type": "code",
   "execution_count": 5,
   "id": "d444c716",
   "metadata": {},
   "outputs": [
    {
     "name": "stdout",
     "output_type": "stream",
     "text": [
      "Is crispr key in the dictionary? False\n",
      "\n"
     ]
    }
   ],
   "source": [
    "# To check if a key is in the dictionary\n",
    "mykey = 'crispr'\n",
    "check = mykey in restriction_enzymes\n",
    "print('Is', mykey, 'key in the dictionary?', check)\n",
    "print()"
   ]
  },
  {
   "cell_type": "code",
   "execution_count": 6,
   "id": "67e96dfd",
   "metadata": {},
   "outputs": [
    {
     "name": "stdout",
     "output_type": "stream",
     "text": [
      "The recognition site of EcoRI is GAATTC\n",
      "\n"
     ]
    }
   ],
   "source": [
    "# To fetch a value from a dictionary with its key\n",
    "EcoRI_value = restriction_enzymes['EcoRI']  #raises a KeyError if key not found\n",
    "EcoRI_value = restriction_enzymes.get('EcoRI') # does not raise a KeyError if key not found\n",
    "print('The recognition site of EcoRI is', EcoRI_value)\n",
    "print()"
   ]
  },
  {
   "cell_type": "code",
   "execution_count": 7,
   "id": "a39131f1",
   "metadata": {},
   "outputs": [
    {
     "name": "stdout",
     "output_type": "stream",
     "text": [
      "With a new item: {'EcoRI': 'GAATTC', 'AluI': 'AGCT', 'NotI': 'GCGGCCGC', 'TaqI': 'TCGA', 'EcoRV': 'GATATC'}\n",
      "\n"
     ]
    }
   ],
   "source": [
    "# To add to an existing dictionary\n",
    "restriction_enzymes['EcoRV'] = 'GATATC'\n",
    "restriction_enzymes.update(EcoRV = 'GATATC')\n",
    "print('With a new item:', restriction_enzymes)\n",
    "print()"
   ]
  },
  {
   "cell_type": "code",
   "execution_count": 8,
   "id": "e6df0fc6",
   "metadata": {},
   "outputs": [
    {
     "name": "stdout",
     "output_type": "stream",
     "text": [
      "Original dictionary: {'EcoRI': 'GAATTC', 'AluI': 'AGCT', 'NotI': 'GCGGCCGC', 'TaqI': 'TCGA'}\n",
      "\n"
     ]
    }
   ],
   "source": [
    "# To delete an item from a dictionary\n",
    "del restriction_enzymes['EcoRV']\n",
    "print('Original dictionary:', restriction_enzymes)\n",
    "print()"
   ]
  },
  {
   "cell_type": "code",
   "execution_count": 9,
   "id": "0bfa8e53",
   "metadata": {},
   "outputs": [],
   "source": [
    "# References:\n",
    "# https://docs.python.org/3/tutorial/datastructures.html#dictionaries\n",
    "# https://docs.python.org/3/library/stdtypes.html#mapping-types-dict"
   ]
  },
  {
   "cell_type": "code",
   "execution_count": 10,
   "id": "f6f5377a",
   "metadata": {},
   "outputs": [],
   "source": [
    "# https://en.wikipedia.org/wiki/Restriction_enzyme"
   ]
  },
  {
   "cell_type": "code",
   "execution_count": null,
   "id": "cd96aa7d",
   "metadata": {},
   "outputs": [],
   "source": []
  }
 ],
 "metadata": {
  "kernelspec": {
   "display_name": "Python 3 (ipykernel)",
   "language": "python",
   "name": "python3"
  },
  "language_info": {
   "codemirror_mode": {
    "name": "ipython",
    "version": 3
   },
   "file_extension": ".py",
   "mimetype": "text/x-python",
   "name": "python",
   "nbconvert_exporter": "python",
   "pygments_lexer": "ipython3",
   "version": "3.11.3"
  }
 },
 "nbformat": 4,
 "nbformat_minor": 5
}

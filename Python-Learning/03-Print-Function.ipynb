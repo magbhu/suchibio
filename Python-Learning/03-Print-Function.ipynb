{
 "cells": [
  {
   "cell_type": "code",
   "execution_count": 1,
   "id": "ade598de",
   "metadata": {},
   "outputs": [],
   "source": [
    "import math"
   ]
  },
  {
   "cell_type": "code",
   "execution_count": 2,
   "id": "8481dc84",
   "metadata": {},
   "outputs": [
    {
     "name": "stdout",
     "output_type": "stream",
     "text": [
      "You have 20000 genes\n",
      "\n"
     ]
    }
   ],
   "source": [
    "human_genes = 20000\n",
    "print('You have', human_genes, 'genes')\n",
    "print()"
   ]
  },
  {
   "cell_type": "code",
   "execution_count": 3,
   "id": "956d4b87",
   "metadata": {},
   "outputs": [
    {
     "name": "stdout",
     "output_type": "stream",
     "text": [
      "You have 20000? genes\n"
     ]
    }
   ],
   "source": [
    "# Replacing \\n with a string\n",
    "print('You have', end =' ')\n",
    "print(human_genes, end = '? ')\n",
    "print('genes')"
   ]
  },
  {
   "cell_type": "code",
   "execution_count": 4,
   "id": "daeadeb2",
   "metadata": {},
   "outputs": [
    {
     "name": "stdout",
     "output_type": "stream",
     "text": [
      "You have 20000 genes\n"
     ]
    }
   ],
   "source": [
    "# Spreading over lines\n",
    "print('You have',\n",
    "      human_genes,\n",
    "      'genes')"
   ]
  },
  {
   "cell_type": "code",
   "execution_count": 5,
   "id": "c7da0511",
   "metadata": {},
   "outputs": [
    {
     "name": "stdout",
     "output_type": "stream",
     "text": [
      "You have '20000' genes\n"
     ]
    }
   ],
   "source": [
    "# Escaping with \\ and string concatenation\n",
    "print('You have ' + '\\'' + str(human_genes) + '\\'' + ' genes')"
   ]
  },
  {
   "cell_type": "code",
   "execution_count": 6,
   "id": "7a5f7c24",
   "metadata": {},
   "outputs": [
    {
     "name": "stdout",
     "output_type": "stream",
     "text": [
      "The value of pi is       ---> 3.142\n"
     ]
    }
   ],
   "source": [
    "# printf style string formatting\n",
    "print('The value of pi is %10s %5.3f' %('--->',  math.pi))"
   ]
  },
  {
   "cell_type": "code",
   "execution_count": 7,
   "id": "576ffcd9",
   "metadata": {},
   "outputs": [
    {
     "name": "stdout",
     "output_type": "stream",
     "text": [
      "\u0007\n"
     ]
    }
   ],
   "source": [
    "print(chr(7))"
   ]
  },
  {
   "cell_type": "code",
   "execution_count": null,
   "id": "e7ddf1a4",
   "metadata": {},
   "outputs": [],
   "source": []
  }
 ],
 "metadata": {
  "kernelspec": {
   "display_name": "Python 3 (ipykernel)",
   "language": "python",
   "name": "python3"
  },
  "language_info": {
   "codemirror_mode": {
    "name": "ipython",
    "version": 3
   },
   "file_extension": ".py",
   "mimetype": "text/x-python",
   "name": "python",
   "nbconvert_exporter": "python",
   "pygments_lexer": "ipython3",
   "version": "3.11.3"
  }
 },
 "nbformat": 4,
 "nbformat_minor": 5
}

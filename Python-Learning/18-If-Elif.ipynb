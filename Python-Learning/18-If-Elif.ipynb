{
 "cells": [
  {
   "cell_type": "code",
   "execution_count": 1,
   "id": "f7c6043f",
   "metadata": {},
   "outputs": [],
   "source": [
    "DNA_segment = 'ATGACATGACCAATC'\n",
    "codon1 = DNA_segment[-3:]"
   ]
  },
  {
   "cell_type": "code",
   "execution_count": 2,
   "id": "0567c5f9",
   "metadata": {},
   "outputs": [
    {
     "name": "stdout",
     "output_type": "stream",
     "text": [
      "Codon ATC is neither a start nor a stop codon.\n"
     ]
    }
   ],
   "source": [
    "# == operator tests the equality of two strings, resulting in True/False\n",
    "if (codon1 == 'ATG'):\n",
    "    print('Codon', codon1, 'is a start codon.')\n",
    "elif ((codon1 == 'TAA') or\n",
    "     (codon1 == 'TAG') or\n",
    "     (codon1 == 'TGA')):\n",
    "    print('Codon', codon1, 'is a stop codon.')\n",
    "else:\n",
    "    print('Codon', codon1, 'is neither a start nor a stop codon.')"
   ]
  },
  {
   "cell_type": "code",
   "execution_count": 3,
   "id": "a33171e2",
   "metadata": {},
   "outputs": [
    {
     "name": "stdout",
     "output_type": "stream",
     "text": [
      "Done!\n"
     ]
    }
   ],
   "source": [
    "print('Done!')"
   ]
  },
  {
   "cell_type": "code",
   "execution_count": null,
   "id": "b32eeef3",
   "metadata": {},
   "outputs": [],
   "source": [
    "# References:\n",
    "# https://docs.python.org/3/tutorial/controlflow.html?#if-statements\n",
    "# https://docs.python.org/3/reference/compound_stmts.html?#the-if-statement\n",
    "# https://docs.python.org/3/library/stdtypes.html?#truth-value-testing\n",
    "# https://docs.python.org/3/tutorial/datastructures.html?#comparing-sequences-and-other-types"
   ]
  },
  {
   "cell_type": "code",
   "execution_count": 4,
   "id": "c5268521",
   "metadata": {},
   "outputs": [],
   "source": [
    "# https://en.wikipedia.org/wiki/DNA_codon_table"
   ]
  },
  {
   "cell_type": "code",
   "execution_count": null,
   "id": "573f704d",
   "metadata": {},
   "outputs": [],
   "source": []
  }
 ],
 "metadata": {
  "kernelspec": {
   "display_name": "Python 3 (ipykernel)",
   "language": "python",
   "name": "python3"
  },
  "language_info": {
   "codemirror_mode": {
    "name": "ipython",
    "version": 3
   },
   "file_extension": ".py",
   "mimetype": "text/x-python",
   "name": "python",
   "nbconvert_exporter": "python",
   "pygments_lexer": "ipython3",
   "version": "3.11.3"
  }
 },
 "nbformat": 4,
 "nbformat_minor": 5
}

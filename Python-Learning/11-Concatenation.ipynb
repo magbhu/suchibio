{
 "cells": [
  {
   "cell_type": "code",
   "execution_count": 1,
   "id": "ad0a056e",
   "metadata": {},
   "outputs": [
    {
     "name": "stdout",
     "output_type": "stream",
     "text": [
      "Green fluorescent protein sequence: MSKGEELFTG...HGMDELYK\n"
     ]
    }
   ],
   "source": [
    "GFP_seq = 'MSKGEELFTG...HGMDELYK'\n",
    "print('Green fluorescent protein sequence:', GFP_seq)"
   ]
  },
  {
   "cell_type": "code",
   "execution_count": 2,
   "id": "7d73cf06",
   "metadata": {},
   "outputs": [],
   "source": [
    "M_codon = 'AUG'\n",
    "S_codon = 'UCA'\n",
    "K_codon = 'AAA'\n",
    "G_codon = 'GGU'"
   ]
  },
  {
   "cell_type": "code",
   "execution_count": 3,
   "id": "3fada8ce",
   "metadata": {},
   "outputs": [
    {
     "name": "stdout",
     "output_type": "stream",
     "text": [
      "RNA sequence: AUGUCA\n"
     ]
    }
   ],
   "source": [
    "RNA_seq = M_codon\n",
    "RNA_seq = RNA_seq + S_codon\n",
    "print('RNA sequence:', RNA_seq)"
   ]
  },
  {
   "cell_type": "code",
   "execution_count": 4,
   "id": "99d89270",
   "metadata": {},
   "outputs": [
    {
     "name": "stdout",
     "output_type": "stream",
     "text": [
      "AUGUCAAAAGGU could code amino acid sequence MSKG\n"
     ]
    }
   ],
   "source": [
    "RNA_seq = RNA_seq + K_codon + G_codon\n",
    "print(RNA_seq, 'could code amino acid sequence MSKG')"
   ]
  },
  {
   "cell_type": "code",
   "execution_count": 5,
   "id": "35c263d9",
   "metadata": {},
   "outputs": [],
   "source": [
    "# References:\n",
    "# https://en.wikipedia.org/wiki/RNA_codon_table"
   ]
  },
  {
   "cell_type": "code",
   "execution_count": 6,
   "id": "25ce43d4",
   "metadata": {},
   "outputs": [],
   "source": [
    "# http://www.abcam.com/recombinant-a-victoria-gfp-protein-ab84191.html"
   ]
  }
 ],
 "metadata": {
  "kernelspec": {
   "display_name": "Python 3 (ipykernel)",
   "language": "python",
   "name": "python3"
  },
  "language_info": {
   "codemirror_mode": {
    "name": "ipython",
    "version": 3
   },
   "file_extension": ".py",
   "mimetype": "text/x-python",
   "name": "python",
   "nbconvert_exporter": "python",
   "pygments_lexer": "ipython3",
   "version": "3.11.3"
  }
 },
 "nbformat": 4,
 "nbformat_minor": 5
}

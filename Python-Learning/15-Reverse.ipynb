{
 "cells": [
  {
   "cell_type": "code",
   "execution_count": 1,
   "id": "e9abd804",
   "metadata": {},
   "outputs": [
    {
     "name": "stdout",
     "output_type": "stream",
     "text": [
      "Zika segment\t\t: AATCCATGGTTTCT\n"
     ]
    }
   ],
   "source": [
    "zika_DNA = 'AATCCATGGTTTCT'\n",
    "print('Zika segment\\t\\t:', zika_DNA)"
   ]
  },
  {
   "cell_type": "code",
   "execution_count": 2,
   "id": "de20898b",
   "metadata": {},
   "outputs": [
    {
     "name": "stdout",
     "output_type": "stream",
     "text": [
      "Reversed zika segment\t: TCTTTGGTACCTAA\n"
     ]
    }
   ],
   "source": [
    "reversed_zika_DNA = zika_DNA[::-1]\n",
    "print('Reversed zika segment\\t:', reversed_zika_DNA)"
   ]
  },
  {
   "cell_type": "code",
   "execution_count": 4,
   "id": "df88c4b4",
   "metadata": {},
   "outputs": [],
   "source": [
    "# References:\n",
    "# https://docs.python.org/3/library/stdtypes.html#common-sequence-operations"
   ]
  },
  {
   "cell_type": "code",
   "execution_count": 3,
   "id": "c90b9338",
   "metadata": {},
   "outputs": [],
   "source": [
    "# https://en.wikipedia.org/wiki/Primer_%28molecular_biology%29#/media/Fi\n",
    "# http://www.ncbi.nlm.nih.gov/nuccore/226377833?report=fasta"
   ]
  },
  {
   "cell_type": "code",
   "execution_count": null,
   "id": "db51b171",
   "metadata": {},
   "outputs": [],
   "source": []
  }
 ],
 "metadata": {
  "kernelspec": {
   "display_name": "Python 3 (ipykernel)",
   "language": "python",
   "name": "python3"
  },
  "language_info": {
   "codemirror_mode": {
    "name": "ipython",
    "version": 3
   },
   "file_extension": ".py",
   "mimetype": "text/x-python",
   "name": "python",
   "nbconvert_exporter": "python",
   "pygments_lexer": "ipython3",
   "version": "3.11.3"
  }
 },
 "nbformat": 4,
 "nbformat_minor": 5
}

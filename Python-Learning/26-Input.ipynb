{
 "cells": [
  {
   "cell_type": "code",
   "execution_count": null,
   "id": "03363705",
   "metadata": {},
   "outputs": [],
   "source": [
    "sequence_number = input('Please type an NCBI sequence number: ')\n",
    "print('Your sequence number is', sequence_number)"
   ]
  },
  {
   "cell_type": "code",
   "execution_count": null,
   "id": "f990c6f9",
   "metadata": {},
   "outputs": [],
   "source": [
    "# Input returns a string\n",
    "starting_index = input('Please type a starting index: ')\n",
    "ending_index = input('Please type an ending index: ')\n",
    "print('I will compute the number of bps in this region...')"
   ]
  },
  {
   "cell_type": "code",
   "execution_count": null,
   "id": "73a4a4cb",
   "metadata": {},
   "outputs": [],
   "source": [
    "# Must cast string inputs to int or float for arithmetical operations\n",
    "number_of_bps = int(ending_index) - int(starting_index)\n",
    "print('The number of bps is:', number_of_bps)"
   ]
  },
  {
   "cell_type": "code",
   "execution_count": null,
   "id": "818177b0",
   "metadata": {},
   "outputs": [],
   "source": [
    "# References:\n",
    "# https://docs.python.org/3/library/functions.html#input"
   ]
  }
 ],
 "metadata": {
  "kernelspec": {
   "display_name": "Python 3 (ipykernel)",
   "language": "python",
   "name": "python3"
  },
  "language_info": {
   "codemirror_mode": {
    "name": "ipython",
    "version": 3
   },
   "file_extension": ".py",
   "mimetype": "text/x-python",
   "name": "python",
   "nbconvert_exporter": "python",
   "pygments_lexer": "ipython3",
   "version": "3.11.3"
  }
 },
 "nbformat": 4,
 "nbformat_minor": 5
}

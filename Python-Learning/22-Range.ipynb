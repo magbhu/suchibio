{
 "cells": [
  {
   "cell_type": "code",
   "execution_count": 1,
   "id": "494e2d29",
   "metadata": {},
   "outputs": [],
   "source": [
    "# Initial population data\n",
    "population = [425]\n",
    "growth_rate = 0.0194\n",
    "number_of_years = 30"
   ]
  },
  {
   "cell_type": "code",
   "execution_count": 2,
   "id": "7817a487",
   "metadata": {},
   "outputs": [
    {
     "name": "stdout",
     "output_type": "stream",
     "text": [
      "[0, 1, 2, 3, 4, 5, 6, 7, 8, 9, 10, 11, 12, 13, 14, 15, 16, 17, 18, 19, 20, 21, 22, 23, 24, 25, 26, 27, 28, 29, 30]\n"
     ]
    }
   ],
   "source": [
    "# Construct a list numbering the years, from 0 to 30\n",
    "years = range(0, number_of_years + 1, 1)             #31 excluded\n",
    "print(list(years))"
   ]
  },
  {
   "cell_type": "code",
   "execution_count": 3,
   "id": "1387e487",
   "metadata": {},
   "outputs": [],
   "source": [
    "# Compute and append the population sizes to a list\n",
    "for year in years:\n",
    "    next_generation = population[year] + growth_rate*population[year]\n",
    "    population.append(next_generation)"
   ]
  },
  {
   "cell_type": "code",
   "execution_count": 7,
   "id": "38253949",
   "metadata": {},
   "outputs": [
    {
     "name": "stdout",
     "output_type": "stream",
     "text": [
      "At year  0 the population is 425.000\n",
      "At year  1 the population is 433.245\n",
      "At year  2 the population is 441.650\n",
      "At year  3 the population is 450.218\n",
      "At year  4 the population is 458.952\n",
      "At year  5 the population is 467.856\n",
      "At year  6 the population is 476.932\n",
      "At year  7 the population is 486.185\n",
      "At year  8 the population is 495.617\n",
      "At year  9 the population is 505.232\n",
      "At year 10 the population is 515.033\n",
      "At year 11 the population is 525.025\n",
      "At year 12 the population is 535.210\n",
      "At year 13 the population is 545.593\n",
      "At year 14 the population is 556.178\n",
      "At year 15 the population is 566.968\n",
      "At year 16 the population is 577.967\n",
      "At year 17 the population is 589.179\n",
      "At year 18 the population is 600.610\n",
      "At year 19 the population is 612.261\n",
      "At year 20 the population is 624.139\n",
      "At year 21 the population is 636.248\n",
      "At year 22 the population is 648.591\n",
      "At year 23 the population is 661.173\n",
      "At year 24 the population is 674.000\n",
      "At year 25 the population is 687.076\n",
      "At year 26 the population is 700.405\n",
      "At year 27 the population is 713.993\n",
      "At year 28 the population is 727.844\n",
      "At year 29 the population is 741.965\n",
      "At year 30 the population is 756.359\n",
      "\n"
     ]
    }
   ],
   "source": [
    "# Print the list of population sizes\n",
    "for year in years:\n",
    "    print('At year %2d the population is %7.3f' %(year, population[year]))\n",
    "print()"
   ]
  },
  {
   "cell_type": "code",
   "execution_count": 8,
   "id": "1a386b0f",
   "metadata": {},
   "outputs": [
    {
     "name": "stdout",
     "output_type": "stream",
     "text": [
      "At year  0 the population is 425\n",
      "At year  1 the population is 433\n",
      "At year  2 the population is 442\n",
      "At year  3 the population is 450\n",
      "At year  4 the population is 459\n",
      "At year  5 the population is 468\n",
      "At year  6 the population is 477\n",
      "At year  7 the population is 486\n",
      "At year  8 the population is 496\n",
      "At year  9 the population is 505\n",
      "At year 10 the population is 515\n",
      "At year 11 the population is 525\n",
      "At year 12 the population is 535\n",
      "At year 13 the population is 546\n",
      "At year 14 the population is 556\n",
      "At year 15 the population is 567\n",
      "At year 16 the population is 578\n",
      "At year 17 the population is 589\n",
      "At year 18 the population is 601\n",
      "At year 19 the population is 612\n",
      "At year 20 the population is 624\n",
      "At year 21 the population is 636\n",
      "At year 22 the population is 649\n",
      "At year 23 the population is 661\n",
      "At year 24 the population is 674\n",
      "At year 25 the population is 687\n",
      "At year 26 the population is 700\n",
      "At year 27 the population is 714\n",
      "At year 28 the population is 728\n",
      "At year 29 the population is 742\n",
      "At year 30 the population is 756\n"
     ]
    }
   ],
   "source": [
    "# Print the calculated population sizes rounded to the nearest integer\n",
    "for year in years:\n",
    "    print('At year %2d the population is %3d' %(year, round(population[year])))"
   ]
  },
  {
   "cell_type": "code",
   "execution_count": null,
   "id": "6ddba3db",
   "metadata": {},
   "outputs": [],
   "source": [
    "# References:\n",
    "# https://docs.python.org/3/tutorial/controlflow.html#the-range-function\n",
    "# https://docs.python.org/3/library/stdtypes.html#ranges"
   ]
  },
  {
   "cell_type": "code",
   "execution_count": null,
   "id": "05e595c7",
   "metadata": {},
   "outputs": [],
   "source": [
    "# https://sora.unm.edu/sites/default/files/journals/jfo/v061n02/p0224-p0231.pdf\n",
    "# https://www4.swfwmd.state.fl.us/springscoast/sandhillcranes.shtml"
   ]
  }
 ],
 "metadata": {
  "kernelspec": {
   "display_name": "Python 3 (ipykernel)",
   "language": "python",
   "name": "python3"
  },
  "language_info": {
   "codemirror_mode": {
    "name": "ipython",
    "version": 3
   },
   "file_extension": ".py",
   "mimetype": "text/x-python",
   "name": "python",
   "nbconvert_exporter": "python",
   "pygments_lexer": "ipython3",
   "version": "3.11.3"
  }
 },
 "nbformat": 4,
 "nbformat_minor": 5
}

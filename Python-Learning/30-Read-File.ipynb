{
 "cells": [
  {
   "cell_type": "code",
   "execution_count": 4,
   "id": "7a2edd75",
   "metadata": {},
   "outputs": [],
   "source": [
    "import sys"
   ]
  },
  {
   "cell_type": "code",
   "execution_count": 6,
   "id": "2263b032",
   "metadata": {},
   "outputs": [],
   "source": [
    "if len(sys.argv) == 1:\n",
    "   print('Please provide a command line argument as a file name!')\n",
    "   sys.exit()\n",
    "else:\n",
    "   myfile = sys.argv[1]"
   ]
  },
  {
   "cell_type": "code",
   "execution_count": 7,
   "id": "e8a6b5a2",
   "metadata": {},
   "outputs": [
    {
     "name": "stdout",
     "output_type": "stream",
     "text": [
      ">JB_007 Rosetta partial genome\n",
      "ATGGGTGGCGGAGGGTGAxxxACCATG\n"
     ]
    }
   ],
   "source": [
    "# Open the file for reading, and read the first five lines. Close file.\n",
    "myfile='Rosetta_partial.fasta'\n",
    "try:\n",
    "    f = open(myfile, 'r')\n",
    "except OSError as oserr:\n",
    "    print('OS error:', oserr)\n",
    "else:\n",
    "    print(f.readline(), end = '')\n",
    "    print(f.readline(), end = '')\n",
    "    print(f.readline(), end = '')\n",
    "    print(f.readline(), end = '')\n",
    "    f.close()"
   ]
  },
  {
   "cell_type": "code",
   "execution_count": 13,
   "id": "1c7bf76b",
   "metadata": {},
   "outputs": [
    {
     "name": "stdout",
     "output_type": "stream",
     "text": [
      "There are 2 lines in Rosetta_partial.fasta\n",
      "\n"
     ]
    }
   ],
   "source": [
    "# Read all lines into a list\n",
    "try:\n",
    "    f = open(myfile, 'r')\n",
    "except OSError as oserr:\n",
    "    print('OS error:', oserr)\n",
    "else:\n",
    "    lines = f.readlines()\n",
    "    number_of_lines = len(lines)\n",
    "    print('There are', number_of_lines, 'lines in', myfile)\n",
    "    f.close()\n",
    " \n",
    "print()"
   ]
  },
  {
   "cell_type": "code",
   "execution_count": 14,
   "id": "6cf9fc04",
   "metadata": {},
   "outputs": [
    {
     "name": "stdout",
     "output_type": "stream",
     "text": [
      ">JB_007 Rosetta partial genome\n",
      "ATGGGTGGCGGAGGGTGAxxxACCATG\n"
     ]
    }
   ],
   "source": [
    "# The best way to read all the lines of a file\n",
    "try:\n",
    "    with open(myfile, 'r') as f:\n",
    "        for line in f:\n",
    "            print(line, end='')\n",
    "except OSError as oserr:\n",
    "    print('OS error:', oserr)"
   ]
  },
  {
   "cell_type": "code",
   "execution_count": 15,
   "id": "91fba973",
   "metadata": {},
   "outputs": [],
   "source": [
    "# References:\n",
    "# https://docs.python.org/3/tutorial/inputoutput.html#reading-and-writing-files\n",
    "# https://docs.python.org/3/library/functions.html#open"
   ]
  },
  {
   "cell_type": "code",
   "execution_count": null,
   "id": "32df2415",
   "metadata": {},
   "outputs": [],
   "source": []
  }
 ],
 "metadata": {
  "kernelspec": {
   "display_name": "Python 3 (ipykernel)",
   "language": "python",
   "name": "python3"
  },
  "language_info": {
   "codemirror_mode": {
    "name": "ipython",
    "version": 3
   },
   "file_extension": ".py",
   "mimetype": "text/x-python",
   "name": "python",
   "nbconvert_exporter": "python",
   "pygments_lexer": "ipython3",
   "version": "3.11.3"
  }
 },
 "nbformat": 4,
 "nbformat_minor": 5
}

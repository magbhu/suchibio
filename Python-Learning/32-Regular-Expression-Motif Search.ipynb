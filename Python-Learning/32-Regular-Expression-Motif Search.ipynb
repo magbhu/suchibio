{
 "cells": [
  {
   "cell_type": "code",
   "execution_count": 1,
   "id": "5999b8d6",
   "metadata": {},
   "outputs": [],
   "source": [
    "import re"
   ]
  },
  {
   "cell_type": "code",
   "execution_count": 3,
   "id": "03dd6c9b",
   "metadata": {},
   "outputs": [],
   "source": [
    "import sys"
   ]
  },
  {
   "cell_type": "code",
   "execution_count": 4,
   "id": "80f2ef2b",
   "metadata": {},
   "outputs": [
    {
     "name": "stdout",
     "output_type": "stream",
     "text": [
      "DNA_sequence: AATGAAGGGCCGCTACGATAAGGAACTTCGTAATTTCAG\n"
     ]
    }
   ],
   "source": [
    "DNA_sequence = 'AATGAAGGGCCGCTACGATAAGGAACTTCGTAATTTCAG'\n",
    "print('DNA_sequence:', DNA_sequence)"
   ]
  },
  {
   "cell_type": "code",
   "execution_count": 5,
   "id": "af5af931",
   "metadata": {},
   "outputs": [
    {
     "name": "stdout",
     "output_type": "stream",
     "text": [
      "Motif: ATG.*?TAA\n"
     ]
    }
   ],
   "source": [
    "motif = r'ATG.*?TAA'         # r for raw string\n",
    "#motif = r'[ATG.*?TAA'       # This is an invalid regular expression\n",
    "print('Motif:', motif)"
   ]
  },
  {
   "cell_type": "code",
   "execution_count": 6,
   "id": "85bc841f",
   "metadata": {},
   "outputs": [],
   "source": [
    "# Checking if motif is a valid regular expression\n",
    "try:\n",
    "    re.compile(motif)\n",
    "except:\n",
    "    print('Invalid regular expression, exiting the program!')\n",
    "    sys.exit()"
   ]
  },
  {
   "cell_type": "code",
   "execution_count": 7,
   "id": "1495c78e",
   "metadata": {},
   "outputs": [],
   "source": [
    "match = re.search(motif, DNA_sequence)"
   ]
  },
  {
   "cell_type": "code",
   "execution_count": 8,
   "id": "0a42101b",
   "metadata": {},
   "outputs": [
    {
     "name": "stdout",
     "output_type": "stream",
     "text": [
      "Found the motif   : ATGAAGGGCCGCTACGATAA\n",
      "Starting at index : 1\n",
      "Ending at index   : 21\n"
     ]
    }
   ],
   "source": [
    "if match:\n",
    "    print('Found the motif   :', match.group())\n",
    "    print('Starting at index :', match.start())\n",
    "    print('Ending at index   :', match.end())\n",
    "else:\n",
    "    print('Did not find the motif.')"
   ]
  },
  {
   "cell_type": "code",
   "execution_count": 9,
   "id": "67ce5d27",
   "metadata": {},
   "outputs": [],
   "source": [
    "# References:\n",
    "# https://docs.python.org/3/library/re.html#module-re\n",
    "# https://docs.python.org/3/library/re.html#raw-string-notation\n",
    "# https://docs.python.org/3/library/re.html#re.search\n",
    "# https://docs.python.org/3/library/re.html#match-objects\n",
    "# https://docs.python.org/3/library/re.html#re.compile"
   ]
  },
  {
   "cell_type": "code",
   "execution_count": 10,
   "id": "543d60af",
   "metadata": {},
   "outputs": [],
   "source": [
    "# http://www.ncbi.nlm.nih.gov/nuccore/XM_002295694.2?report=fasta"
   ]
  },
  {
   "cell_type": "code",
   "execution_count": null,
   "id": "0bed272e",
   "metadata": {},
   "outputs": [],
   "source": []
  }
 ],
 "metadata": {
  "kernelspec": {
   "display_name": "Python 3 (ipykernel)",
   "language": "python",
   "name": "python3"
  },
  "language_info": {
   "codemirror_mode": {
    "name": "ipython",
    "version": 3
   },
   "file_extension": ".py",
   "mimetype": "text/x-python",
   "name": "python",
   "nbconvert_exporter": "python",
   "pygments_lexer": "ipython3",
   "version": "3.11.3"
  }
 },
 "nbformat": 4,
 "nbformat_minor": 5
}

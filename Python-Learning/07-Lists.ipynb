{
 "cells": [
  {
   "cell_type": "code",
   "execution_count": 1,
   "id": "f343df29",
   "metadata": {},
   "outputs": [
    {
     "name": "stdout",
     "output_type": "stream",
     "text": [
      "['TAA', 'tAG']\n"
     ]
    }
   ],
   "source": [
    "# Constructing a list\n",
    "stop_codons = ['TAA', 'tAG']\n",
    "print(stop_codons)"
   ]
  },
  {
   "cell_type": "code",
   "execution_count": 2,
   "id": "ff8c3b92",
   "metadata": {},
   "outputs": [
    {
     "name": "stdout",
     "output_type": "stream",
     "text": [
      "TAA\n"
     ]
    }
   ],
   "source": [
    "# Accessing an item in a list\n",
    "first_stop_codon = stop_codons[0]\n",
    "print(first_stop_codon)"
   ]
  },
  {
   "cell_type": "code",
   "execution_count": 3,
   "id": "bde18db7",
   "metadata": {},
   "outputs": [
    {
     "name": "stdout",
     "output_type": "stream",
     "text": [
      "['TAA', 'TAG']\n"
     ]
    }
   ],
   "source": [
    "# Modifying an item in a list\n",
    "stop_codons[1] = 'TAG'\n",
    "print(stop_codons)"
   ]
  },
  {
   "cell_type": "code",
   "execution_count": 4,
   "id": "e5db803d",
   "metadata": {},
   "outputs": [
    {
     "name": "stdout",
     "output_type": "stream",
     "text": [
      "['TAA', 'TAG', 'TGA']\n"
     ]
    }
   ],
   "source": [
    "# Appending an item to the end of a list\n",
    "stop_codons.append('TGA')\n",
    "print(stop_codons)"
   ]
  },
  {
   "cell_type": "code",
   "execution_count": 5,
   "id": "e9463ada",
   "metadata": {},
   "outputs": [
    {
     "name": "stdout",
     "output_type": "stream",
     "text": [
      "There are 3 stop codons\n"
     ]
    }
   ],
   "source": [
    "# Number of items in a list\n",
    "number_of_stop_codons = len(stop_codons)\n",
    "print('There are', number_of_stop_codons, 'stop codons')"
   ]
  },
  {
   "cell_type": "code",
   "execution_count": 6,
   "id": "2ae6286b",
   "metadata": {},
   "outputs": [
    {
     "name": "stdout",
     "output_type": "stream",
     "text": [
      "TAATAGTGA\n"
     ]
    }
   ],
   "source": [
    "# Convert list to a string\n",
    "DNA_seq = ''.join(stop_codons)\n",
    "print(DNA_seq)"
   ]
  },
  {
   "cell_type": "code",
   "execution_count": 7,
   "id": "150aab44",
   "metadata": {},
   "outputs": [
    {
     "name": "stdout",
     "output_type": "stream",
     "text": [
      "['T', 'A', 'A', 'T', 'A', 'G', 'T', 'G', 'A']\n"
     ]
    }
   ],
   "source": [
    "# Convert string to a list\n",
    "DNA_list = list(DNA_seq)\n",
    "print(DNA_list)"
   ]
  },
  {
   "cell_type": "code",
   "execution_count": 8,
   "id": "e892ea30",
   "metadata": {},
   "outputs": [
    {
     "name": "stdout",
     "output_type": "stream",
     "text": [
      "Second codon: ['T', 'A', 'G']\n"
     ]
    }
   ],
   "source": [
    "# Slicing a list\n",
    "second_codon = DNA_list[3:6]             # index 6 not included\n",
    "print('Second codon:', second_codon)"
   ]
  },
  {
   "cell_type": "code",
   "execution_count": 9,
   "id": "0d134bf4",
   "metadata": {},
   "outputs": [
    {
     "name": "stdout",
     "output_type": "stream",
     "text": [
      "['T', 'A', 'A', 'T', 'A', 'G', 'T', 'G', 'A']\n"
     ]
    }
   ],
   "source": [
    "# Copying a list\n",
    "DNA_list_duplicate = DNA_list.copy()\n",
    "print(DNA_list_duplicate)"
   ]
  },
  {
   "cell_type": "code",
   "execution_count": 10,
   "id": "257acb12",
   "metadata": {},
   "outputs": [
    {
     "name": "stdout",
     "output_type": "stream",
     "text": [
      "['T', 'A', 'A', 'T', 'A', '?', 'G', 'T', 'G', 'A']\n",
      "['T', 'A', 'A', 'T', 'A', 'G', 'T', 'G', 'A']\n"
     ]
    }
   ],
   "source": [
    "# Insert, delete element\n",
    "DNA_list_duplicate.insert(5, \"?\")\n",
    "print(DNA_list_duplicate)\n",
    "DNA_list_duplicate.pop(5)        # Can also use: del DNA_list_duplicate[5]\n",
    "print(DNA_list_duplicate)"
   ]
  },
  {
   "cell_type": "code",
   "execution_count": 11,
   "id": "971b1ca8",
   "metadata": {},
   "outputs": [],
   "source": [
    "# References:\n",
    "# https://docs.python.org/3/tutorial/introduction.html#lists\n",
    "# https://docs.python.org/3/tutorial/datastructures.html#more-on-lists\n",
    "# https://docs.python.org/3/library/stdtypes.html#lists\n",
    "# https://docs.python.org/3/library/stdtypes.html#common-sequence-operations"
   ]
  },
  {
   "cell_type": "code",
   "execution_count": null,
   "id": "8eeccb05",
   "metadata": {},
   "outputs": [],
   "source": [
    "# https://en.wikipedia.org/wiki/DNA_codon_table"
   ]
  }
 ],
 "metadata": {
  "kernelspec": {
   "display_name": "Python 3 (ipykernel)",
   "language": "python",
   "name": "python3"
  },
  "language_info": {
   "codemirror_mode": {
    "name": "ipython",
    "version": 3
   },
   "file_extension": ".py",
   "mimetype": "text/x-python",
   "name": "python",
   "nbconvert_exporter": "python",
   "pygments_lexer": "ipython3",
   "version": "3.11.3"
  }
 },
 "nbformat": 4,
 "nbformat_minor": 5
}

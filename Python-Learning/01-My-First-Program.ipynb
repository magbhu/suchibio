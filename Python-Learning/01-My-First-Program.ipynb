{
 "cells": [
  {
   "cell_type": "code",
   "execution_count": 2,
   "id": "fc072ed7",
   "metadata": {},
   "outputs": [],
   "source": [
    "# My first program"
   ]
  },
  {
   "cell_type": "code",
   "execution_count": 1,
   "id": "a993fa52",
   "metadata": {},
   "outputs": [
    {
     "name": "stdout",
     "output_type": "stream",
     "text": [
      "Welcome to Python for Biologists!\n"
     ]
    }
   ],
   "source": [
    "print('Welcome to Python for Biologists!')"
   ]
  },
  {
   "cell_type": "code",
   "execution_count": null,
   "id": "0b52e6ea",
   "metadata": {},
   "outputs": [],
   "source": [
    "# References:\n",
    "# http://www.python.org\n",
    "# https://www.python.org/about/gettingstarted/"
   ]
  }
 ],
 "metadata": {
  "kernelspec": {
   "display_name": "Python 3 (ipykernel)",
   "language": "python",
   "name": "python3"
  },
  "language_info": {
   "codemirror_mode": {
    "name": "ipython",
    "version": 3
   },
   "file_extension": ".py",
   "mimetype": "text/x-python",
   "name": "python",
   "nbconvert_exporter": "python",
   "pygments_lexer": "ipython3",
   "version": "3.11.3"
  }
 },
 "nbformat": 4,
 "nbformat_minor": 5
}

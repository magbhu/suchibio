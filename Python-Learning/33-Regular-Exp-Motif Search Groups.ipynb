{
 "cells": [
  {
   "cell_type": "code",
   "execution_count": 1,
   "id": "88a8085c",
   "metadata": {},
   "outputs": [],
   "source": [
    "import re"
   ]
  },
  {
   "cell_type": "code",
   "execution_count": 2,
   "id": "6a792f61",
   "metadata": {},
   "outputs": [],
   "source": [
    "import sys"
   ]
  },
  {
   "cell_type": "code",
   "execution_count": 3,
   "id": "7b2fb889",
   "metadata": {},
   "outputs": [
    {
     "name": "stdout",
     "output_type": "stream",
     "text": [
      "DNA_sequence: AATGAAGGGCCGCTACGATAAGGAACTTCGTAATTTCAG\n"
     ]
    }
   ],
   "source": [
    "DNA_sequence = 'AATGAAGGGCCGCTACGATAAGGAACTTCGTAATTTCAG'\n",
    "print('DNA_sequence:', DNA_sequence)"
   ]
  },
  {
   "cell_type": "code",
   "execution_count": 4,
   "id": "84698f5a",
   "metadata": {},
   "outputs": [
    {
     "name": "stdout",
     "output_type": "stream",
     "text": [
      "Motif: (ATG(.*?)TAA)\n"
     ]
    }
   ],
   "source": [
    "motif = r'(ATG(.*?)TAA)'\n",
    "print('Motif:', motif)"
   ]
  },
  {
   "cell_type": "code",
   "execution_count": 5,
   "id": "3f5c84f8",
   "metadata": {},
   "outputs": [],
   "source": [
    "# Checking if motif is a valid regular expression\n",
    "try:\n",
    "    re.compile(motif)\n",
    "except:\n",
    "    print('Invalid regular expression, exiting the program!')\n",
    "    sys.exit()"
   ]
  },
  {
   "cell_type": "code",
   "execution_count": 6,
   "id": "fe8a6dee",
   "metadata": {},
   "outputs": [],
   "source": [
    "match = re.search(motif, DNA_sequence)"
   ]
  },
  {
   "cell_type": "code",
   "execution_count": 7,
   "id": "69a771b0",
   "metadata": {},
   "outputs": [
    {
     "name": "stdout",
     "output_type": "stream",
     "text": [
      "group0           : ATGAAGGGCCGCTACGATAA\n",
      "group0 start-end : 1 21\n",
      "group1           : ATGAAGGGCCGCTACGATAA\n",
      "group1 start-end : 1 21\n",
      "group2           : AAGGGCCGCTACGA\n",
      "group2 start-end : 4 18\n",
      "groups as tuples : ('ATGAAGGGCCGCTACGATAA', 'AAGGGCCGCTACGA')\n"
     ]
    }
   ],
   "source": [
    "if match:\n",
    "    print('group0           :', match.group(0))\n",
    "    print('group0 start-end :', match.start(0), match.end(0))\n",
    "    print('group1           :', match.group(1))\n",
    "    print('group1 start-end :', match.start(1), match.end(1))\n",
    "    print('group2           :', match.group(2))\n",
    "    print('group2 start-end :', match.start(2), match.end(2))\n",
    "    print('groups as tuples :', match.groups())\n",
    "else:\n",
    "    print('Did not find the motif.')"
   ]
  },
  {
   "cell_type": "code",
   "execution_count": 8,
   "id": "6b5fff5c",
   "metadata": {},
   "outputs": [],
   "source": [
    "# References:\n",
    "# https://docs.python.org/3/library/re.html#re.Match.group\n",
    "# https://docs.python.org/3/library/re.html#module-re\n",
    "# https://docs.python.org/3/library/re.html#raw-string-notation\n",
    "# https://docs.python.org/3/library/re.html#re.search\n",
    "# https://docs.python.org/3/library/re.html#match-objects"
   ]
  },
  {
   "cell_type": "code",
   "execution_count": 9,
   "id": "38f958c4",
   "metadata": {},
   "outputs": [],
   "source": [
    "# http://www.ncbi.nlm.nih.gov/nuccore/XM_002295694.2?report=fasta"
   ]
  },
  {
   "cell_type": "code",
   "execution_count": null,
   "id": "6b6d4f9f",
   "metadata": {},
   "outputs": [],
   "source": []
  }
 ],
 "metadata": {
  "kernelspec": {
   "display_name": "Python 3 (ipykernel)",
   "language": "python",
   "name": "python3"
  },
  "language_info": {
   "codemirror_mode": {
    "name": "ipython",
    "version": 3
   },
   "file_extension": ".py",
   "mimetype": "text/x-python",
   "name": "python",
   "nbconvert_exporter": "python",
   "pygments_lexer": "ipython3",
   "version": "3.11.3"
  }
 },
 "nbformat": 4,
 "nbformat_minor": 5
}

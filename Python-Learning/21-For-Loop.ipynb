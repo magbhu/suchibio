{
 "cells": [
  {
   "cell_type": "code",
   "execution_count": 1,
   "id": "8547adcb",
   "metadata": {},
   "outputs": [],
   "source": [
    "# Save nucleotide bases in a list\n",
    "bases = ['T', 'C', 'A', 'G']"
   ]
  },
  {
   "cell_type": "code",
   "execution_count": 2,
   "id": "cf80402a",
   "metadata": {},
   "outputs": [
    {
     "name": "stdout",
     "output_type": "stream",
     "text": [
      "T\n",
      "C\n",
      "A\n",
      "G\n"
     ]
    }
   ],
   "source": [
    "# As a warmup, print the list of bases\n",
    "for base in bases:\n",
    "    print(base)"
   ]
  },
  {
   "cell_type": "code",
   "execution_count": 3,
   "id": "8074a8bf",
   "metadata": {},
   "outputs": [
    {
     "name": "stdout",
     "output_type": "stream",
     "text": [
      "Codons starting with T:\n"
     ]
    }
   ],
   "source": [
    "print('Codons starting with T:')"
   ]
  },
  {
   "cell_type": "code",
   "execution_count": 4,
   "id": "6e1297e5",
   "metadata": {},
   "outputs": [
    {
     "name": "stdout",
     "output_type": "stream",
     "text": [
      "Codons starting with TT\n",
      "TTT\n",
      "TTC\n",
      "TTA\n",
      "TTG\n",
      "Codons starting with TC\n",
      "TCT\n",
      "TCC\n",
      "TCA\n",
      "TCG\n",
      "Codons starting with TA\n",
      "TAT\n",
      "TAC\n",
      "TAA\n",
      "TAG\n",
      "Codons starting with TG\n",
      "TGT\n",
      "TGC\n",
      "TGA\n",
      "TGG\n"
     ]
    }
   ],
   "source": [
    "for second_base in bases:\n",
    "    print('Codons starting with T'+second_base)\n",
    "    for third_base in bases:\n",
    "        print('T'+second_base+third_base)"
   ]
  },
  {
   "cell_type": "code",
   "execution_count": 5,
   "id": "a2802f1a",
   "metadata": {},
   "outputs": [],
   "source": [
    "# References:\n",
    "# https://docs.python.org/3/tutorial/controlflow.html#for-statements\n",
    "# https://docs.python.org/3/reference/compound_stmts.html#for\n",
    "# https://en.wikipedia.org/wiki/DNA_codon_table"
   ]
  },
  {
   "cell_type": "code",
   "execution_count": 6,
   "id": "d87b592e",
   "metadata": {},
   "outputs": [],
   "source": [
    "# https://en.wikipedia.org/wiki/DNA_codon_table"
   ]
  }
 ],
 "metadata": {
  "kernelspec": {
   "display_name": "Python 3 (ipykernel)",
   "language": "python",
   "name": "python3"
  },
  "language_info": {
   "codemirror_mode": {
    "name": "ipython",
    "version": 3
   },
   "file_extension": ".py",
   "mimetype": "text/x-python",
   "name": "python",
   "nbconvert_exporter": "python",
   "pygments_lexer": "ipython3",
   "version": "3.11.3"
  }
 },
 "nbformat": 4,
 "nbformat_minor": 5
}

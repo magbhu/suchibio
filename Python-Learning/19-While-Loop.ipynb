{
 "cells": [
  {
   "cell_type": "code",
   "execution_count": 1,
   "id": "621819d1",
   "metadata": {},
   "outputs": [
    {
     "name": "stdout",
     "output_type": "stream",
     "text": [
      "DNA sequence: CGGACACACAAAAAGAATGAAGGATTTTGAATCTTTATTGTGTGCGAGTAACTACGAGGAAGATTAAAGA\n"
     ]
    }
   ],
   "source": [
    "DNA_seq = 'CGGACACACAAAAAGAATGAAGGATTTTGAATCTTTATTGTGTGCGAGTAACTACGAGGAAGATTAAAGA'\n",
    "print('DNA sequence:', DNA_seq)"
   ]
  },
  {
   "cell_type": "code",
   "execution_count": 2,
   "id": "24d6e885",
   "metadata": {},
   "outputs": [
    {
     "name": "stdout",
     "output_type": "stream",
     "text": [
      "Base pair: T\n"
     ]
    }
   ],
   "source": [
    "bp = 'T'\n",
    "print('Base pair:', bp)"
   ]
  },
  {
   "cell_type": "code",
   "execution_count": 3,
   "id": "d16c471d",
   "metadata": {},
   "outputs": [
    {
     "name": "stdout",
     "output_type": "stream",
     "text": [
      "str.count(): 17\n"
     ]
    }
   ],
   "source": [
    "print('str.count():', DNA_seq.count(bp))"
   ]
  },
  {
   "cell_type": "code",
   "execution_count": 4,
   "id": "5528e737",
   "metadata": {},
   "outputs": [],
   "source": [
    "count = 0\n",
    "index = 0"
   ]
  },
  {
   "cell_type": "code",
   "execution_count": 5,
   "id": "a64a0e4e",
   "metadata": {},
   "outputs": [],
   "source": [
    "while index < len(DNA_seq):\n",
    "    if bp == DNA_seq[index]:\n",
    "        count += 1\n",
    "    index += 1"
   ]
  },
  {
   "cell_type": "code",
   "execution_count": 6,
   "id": "a4816df0",
   "metadata": {},
   "outputs": [
    {
     "name": "stdout",
     "output_type": "stream",
     "text": [
      "Our while count: 17\n"
     ]
    }
   ],
   "source": [
    "print('Our while count:', count)"
   ]
  },
  {
   "cell_type": "code",
   "execution_count": null,
   "id": "ea9390ec",
   "metadata": {},
   "outputs": [],
   "source": [
    "# References:\n",
    "# https://docs.python.org/3/reference/compound_stmts.html#the-while-statement\n",
    "# https://docs.python.org/3/library/stdtypes.html#string-methods"
   ]
  },
  {
   "cell_type": "code",
   "execution_count": null,
   "id": "d558f10d",
   "metadata": {},
   "outputs": [],
   "source": [
    "# https://www.ncbi.nlm.nih.gov/nuccore/KC545393.1?report=fasta"
   ]
  }
 ],
 "metadata": {
  "kernelspec": {
   "display_name": "Python 3 (ipykernel)",
   "language": "python",
   "name": "python3"
  },
  "language_info": {
   "codemirror_mode": {
    "name": "ipython",
    "version": 3
   },
   "file_extension": ".py",
   "mimetype": "text/x-python",
   "name": "python",
   "nbconvert_exporter": "python",
   "pygments_lexer": "ipython3",
   "version": "3.11.3"
  }
 },
 "nbformat": 4,
 "nbformat_minor": 5
}

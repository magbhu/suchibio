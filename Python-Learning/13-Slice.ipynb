{
 "cells": [
  {
   "cell_type": "code",
   "execution_count": 1,
   "id": "718840c1",
   "metadata": {},
   "outputs": [
    {
     "name": "stdout",
     "output_type": "stream",
     "text": [
      "Human D-loop: TTCTTTCATGGGGAAGCAGATTTGGGTACCACCCAAGTATTGACTTACCCATCAACAACCGCTATGTATT\n"
     ]
    }
   ],
   "source": [
    "human = 'TTCTTTCATGGGGAAGCAGATTTGGGTACCACCCAAGTATTGACTTACCCATCAACAACCGCTATGTATT'\n",
    "print('Human D-loop:', human)"
   ]
  },
  {
   "cell_type": "code",
   "execution_count": 2,
   "id": "df8b2549",
   "metadata": {},
   "outputs": [],
   "source": [
    "mycodon = 'CAT'"
   ]
  },
  {
   "cell_type": "code",
   "execution_count": 3,
   "id": "26e2c0a4",
   "metadata": {},
   "outputs": [
    {
     "name": "stdout",
     "output_type": "stream",
     "text": [
      "First CAT index: 6\n"
     ]
    }
   ],
   "source": [
    "# Find the lowest index of mycodon in human\n",
    "index_mycodon = human.find(mycodon)\n",
    "print('First', mycodon, 'index:', index_mycodon)"
   ]
  },
  {
   "cell_type": "code",
   "execution_count": 4,
   "id": "486f6fc0",
   "metadata": {},
   "outputs": [
    {
     "name": "stdout",
     "output_type": "stream",
     "text": [
      "First codon after CAT : GGG\n"
     ]
    }
   ],
   "source": [
    "# Extract the first codon after mycodon\n",
    "first_codon = human[index_mycodon + 3: index_mycodon + 6]\n",
    "print('First codon after', mycodon, ':', first_codon)"
   ]
  },
  {
   "cell_type": "code",
   "execution_count": 5,
   "id": "967ab21a",
   "metadata": {},
   "outputs": [
    {
     "name": "stdout",
     "output_type": "stream",
     "text": [
      "Second codon after CAT : GAA\n"
     ]
    }
   ],
   "source": [
    "# Extract the second codon after mycodon\n",
    "second_codon = human[index_mycodon + 6: index_mycodon + 9]\n",
    "print('Second codon after', mycodon, ':', second_codon)"
   ]
  },
  {
   "cell_type": "code",
   "execution_count": 6,
   "id": "ba642468",
   "metadata": {},
   "outputs": [
    {
     "name": "stdout",
     "output_type": "stream",
     "text": [
      "Next to last codon: TGT\n"
     ]
    }
   ],
   "source": [
    "# Negative starting point counts from the end of the string.\n",
    "next_to_last_codon = human[-6:-3]\n",
    "print('Next to last codon:', next_to_last_codon)"
   ]
  },
  {
   "cell_type": "code",
   "execution_count": 7,
   "id": "56e92f71",
   "metadata": {},
   "outputs": [
    {
     "name": "stdout",
     "output_type": "stream",
     "text": [
      "Last codon: ATT\n"
     ]
    }
   ],
   "source": [
    "# Omitted second entry in slicing indicates to the end of string\n",
    "last_codon = human[-3:]\n",
    "print('Last codon:', last_codon)"
   ]
  },
  {
   "cell_type": "code",
   "execution_count": 8,
   "id": "66e23617",
   "metadata": {},
   "outputs": [],
   "source": [
    "# References:\n",
    "# https://docs.python.org/3/tutorial/introduction.html#strings\n",
    "# https://docs.python.org/3/library/stdtypes.html#str.find\n",
    "# https://docs.python.org/3/library/stdtypes.html#common-sequence-operations\n",
    "# https://docs.python.org/3/library/stdtypes.html#text-sequence-type-str"
   ]
  },
  {
   "cell_type": "code",
   "execution_count": 9,
   "id": "9c6f1611",
   "metadata": {},
   "outputs": [],
   "source": [
    "# https://en.wikipedia.org/wiki/DNA_codon_table\n",
    "# https://en.wikipedia.org/wiki/D-loop\n",
    "# https://www.ncbi.nlm.nih.gov/nuccore/X90314.1?report=fasta"
   ]
  },
  {
   "cell_type": "code",
   "execution_count": null,
   "id": "184e6220",
   "metadata": {},
   "outputs": [],
   "source": []
  }
 ],
 "metadata": {
  "kernelspec": {
   "display_name": "Python 3 (ipykernel)",
   "language": "python",
   "name": "python3"
  },
  "language_info": {
   "codemirror_mode": {
    "name": "ipython",
    "version": 3
   },
   "file_extension": ".py",
   "mimetype": "text/x-python",
   "name": "python",
   "nbconvert_exporter": "python",
   "pygments_lexer": "ipython3",
   "version": "3.11.3"
  }
 },
 "nbformat": 4,
 "nbformat_minor": 5
}

{
 "cells": [
  {
   "cell_type": "code",
   "execution_count": 1,
   "id": "01afebc3",
   "metadata": {},
   "outputs": [
    {
     "name": "stdout",
     "output_type": "stream",
     "text": [
      "DEFINITION: Escherichia coli str. K-12 substr. MG1665\n"
     ]
    }
   ],
   "source": [
    "# String variable\n",
    "organism = \"Escherichia coli\"        # NCBI accession number U00096\n",
    "strain = 'str. K-12 substr. MG1665'\n",
    "print(\"DEFINITION: \" + organism + \" \" + strain)"
   ]
  },
  {
   "cell_type": "code",
   "execution_count": 2,
   "id": "abcf4278",
   "metadata": {},
   "outputs": [
    {
     "name": "stdout",
     "output_type": "stream",
     "text": [
      "Number of base pairs: 4641652\n"
     ]
    }
   ],
   "source": [
    "# Integer variable\n",
    "number_of_bps = 4641652\n",
    "print('Number of base pairs:', number_of_bps)"
   ]
  },
  {
   "cell_type": "code",
   "execution_count": 3,
   "id": "dcd74182",
   "metadata": {},
   "outputs": [],
   "source": [
    "# Float variable\n",
    "percent_A = 24.7\n",
    "percent_T = 23.6"
   ]
  },
  {
   "cell_type": "code",
   "execution_count": 4,
   "id": "adc29f5a",
   "metadata": {},
   "outputs": [
    {
     "name": "stdout",
     "output_type": "stream",
     "text": [
      "[A, G, C, T] = [24.7, 26.0, 25.7, 23.6]\n"
     ]
    }
   ],
   "source": [
    "# List variable\n",
    "percents_AGCT = [percent_A, 26.0, 25.7, percent_T]\n",
    "print(\"[A, G, C, T] =\", percents_AGCT)"
   ]
  },
  {
   "cell_type": "code",
   "execution_count": 7,
   "id": "112a1764",
   "metadata": {},
   "outputs": [],
   "source": [
    "# Computing ratios A/T and G/C\n",
    "ratio_AT = percent_A / percent_T\n",
    "ratio_GC = percents_AGCT[1] / percents_AGCT[2]"
   ]
  },
  {
   "cell_type": "code",
   "execution_count": 6,
   "id": "bb6ec490",
   "metadata": {},
   "outputs": [
    {
     "name": "stdout",
     "output_type": "stream",
     "text": [
      "('Escherichia coli', 1.0466101694915253, 1.0116731517509727)\n"
     ]
    }
   ],
   "source": [
    "# Tuple variable\n",
    "E_Coli = (organism, ratio_AT, ratio_GC)\n",
    "print(E_Coli)"
   ]
  },
  {
   "cell_type": "code",
   "execution_count": 8,
   "id": "735ad411",
   "metadata": {},
   "outputs": [],
   "source": [
    "#Variable names in Python start with a letter followed by\n",
    "# combination of letters, digits or underscore (no white spaces).\n",
    "#\n",
    "# Four of the basic variable types in Python are\n",
    "# numeric (integers and floats), string, list, and tuple.\n",
    "# The code below introduces examples of these variable types."
   ]
  },
  {
   "cell_type": "code",
   "execution_count": null,
   "id": "6960c68a",
   "metadata": {},
   "outputs": [],
   "source": [
    "# References:\n",
    "# https://docs.python.org/3/tutorial/introduction.html#an-informal-introduction-to-python"
   ]
  },
  {
   "cell_type": "code",
   "execution_count": 9,
   "id": "f4f36125",
   "metadata": {},
   "outputs": [],
   "source": [
    "# https://www.ncbi.nlm.nih.gov/nuccore/U00096\n",
    "# https://en.wikipedia.org/wiki/Chargaff%27s_rules"
   ]
  }
 ],
 "metadata": {
  "kernelspec": {
   "display_name": "Python 3 (ipykernel)",
   "language": "python",
   "name": "python3"
  },
  "language_info": {
   "codemirror_mode": {
    "name": "ipython",
    "version": 3
   },
   "file_extension": ".py",
   "mimetype": "text/x-python",
   "name": "python",
   "nbconvert_exporter": "python",
   "pygments_lexer": "ipython3",
   "version": "3.11.3"
  }
 },
 "nbformat": 4,
 "nbformat_minor": 5
}

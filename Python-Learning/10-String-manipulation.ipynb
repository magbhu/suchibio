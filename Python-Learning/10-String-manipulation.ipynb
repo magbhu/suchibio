{
 "cells": [
  {
   "cell_type": "code",
   "execution_count": 1,
   "id": "db93d210",
   "metadata": {},
   "outputs": [],
   "source": [
    "zika_DNA = 'AGTTGTTGATCTGTGT'\n",
    "zika_DNA_length = len(zika_DNA)"
   ]
  },
  {
   "cell_type": "code",
   "execution_count": 2,
   "id": "62e492af",
   "metadata": {},
   "outputs": [
    {
     "name": "stdout",
     "output_type": "stream",
     "text": [
      "The first 16 nucleotides of Zika virus DNA are AGTTGTTGATCTGTGT\n"
     ]
    }
   ],
   "source": [
    "print('The first', zika_DNA_length, 'nucleotides',\n",
    "      'of Zika virus DNA are', zika_DNA)"
   ]
  },
  {
   "cell_type": "code",
   "execution_count": null,
   "id": "596c9c4b",
   "metadata": {},
   "outputs": [],
   "source": [
    "# References:\n",
    "# https://docs.python.org/3/library/functions.html#len"
   ]
  },
  {
   "cell_type": "code",
   "execution_count": 3,
   "id": "965a31be",
   "metadata": {},
   "outputs": [],
   "source": [
    "# http://www.ncbi.nlm.nih.gov/nuccore/226377833?report=fasta"
   ]
  }
 ],
 "metadata": {
  "kernelspec": {
   "display_name": "Python 3 (ipykernel)",
   "language": "python",
   "name": "python3"
  },
  "language_info": {
   "codemirror_mode": {
    "name": "ipython",
    "version": 3
   },
   "file_extension": ".py",
   "mimetype": "text/x-python",
   "name": "python",
   "nbconvert_exporter": "python",
   "pygments_lexer": "ipython3",
   "version": "3.11.3"
  }
 },
 "nbformat": 4,
 "nbformat_minor": 5
}

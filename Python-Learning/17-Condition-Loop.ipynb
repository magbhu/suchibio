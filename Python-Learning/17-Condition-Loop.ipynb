{
 "cells": [
  {
   "cell_type": "code",
   "execution_count": 1,
   "id": "c79753f2",
   "metadata": {},
   "outputs": [],
   "source": [
    "DNA_segment = 'ATGACATGA'\n",
    "codon1 = DNA_segment[0:3]"
   ]
  },
  {
   "cell_type": "code",
   "execution_count": 2,
   "id": "664db7f3",
   "metadata": {},
   "outputs": [
    {
     "name": "stdout",
     "output_type": "stream",
     "text": [
      "Codon ATG is a start codon.\n"
     ]
    }
   ],
   "source": [
    "# == operator tests the equality of two strings, resulting in True/False\n",
    "if (codon1 == 'ATG'):\n",
    "    print('Codon', codon1, 'is a start codon.')\n",
    "else:\n",
    "    print('Codon', codon1, 'is not a start codon.')"
   ]
  },
  {
   "cell_type": "code",
   "execution_count": 3,
   "id": "bc62dc33",
   "metadata": {},
   "outputs": [
    {
     "name": "stdout",
     "output_type": "stream",
     "text": [
      "Done!\n"
     ]
    }
   ],
   "source": [
    "print('Done!')"
   ]
  },
  {
   "cell_type": "code",
   "execution_count": 4,
   "id": "dc35b467",
   "metadata": {},
   "outputs": [],
   "source": [
    "# References:\n",
    "# https://docs.python.org/3/tutorial/controlflow.html?#if-statements\n",
    "# https://docs.python.org/3/reference/compound_stmts.html?#the-if-statement\n",
    "# https://docs.python.org/3/library/stdtypes.html?#truth-value-testing"
   ]
  },
  {
   "cell_type": "code",
   "execution_count": null,
   "id": "40340245",
   "metadata": {},
   "outputs": [],
   "source": []
  }
 ],
 "metadata": {
  "kernelspec": {
   "display_name": "Python 3 (ipykernel)",
   "language": "python",
   "name": "python3"
  },
  "language_info": {
   "codemirror_mode": {
    "name": "ipython",
    "version": 3
   },
   "file_extension": ".py",
   "mimetype": "text/x-python",
   "name": "python",
   "nbconvert_exporter": "python",
   "pygments_lexer": "ipython3",
   "version": "3.11.3"
  }
 },
 "nbformat": 4,
 "nbformat_minor": 5
}

{
 "cells": [
  {
   "cell_type": "code",
   "execution_count": 1,
   "id": "9d752446",
   "metadata": {},
   "outputs": [
    {
     "name": "stdout",
     "output_type": "stream",
     "text": [
      "Chimp D-loop: GTACCACCTAAGTACTGGCTCATTCATTACAACCGGTATGTACTTCGTACATTACTGCCAGTCACCATGA\n"
     ]
    }
   ],
   "source": [
    "chimp = 'GTACCACCTAAGTACTGGCTCATTCATTACAACCGGTATGTACTTCGTACATTACTGCCAGTCACCATGA'\n",
    "print('Chimp D-loop:', chimp)"
   ]
  },
  {
   "cell_type": "code",
   "execution_count": 2,
   "id": "642d7a94",
   "metadata": {},
   "outputs": [],
   "source": [
    "codon = 'CAT'"
   ]
  },
  {
   "cell_type": "code",
   "execution_count": 3,
   "id": "405d1cf5",
   "metadata": {},
   "outputs": [
    {
     "name": "stdout",
     "output_type": "stream",
     "text": [
      "Is codon CAT in chimp: True\n"
     ]
    }
   ],
   "source": [
    "# Check if subtring is in string\n",
    "is_in = codon in chimp\n",
    "print('Is codon', codon, 'in chimp:', is_in)"
   ]
  },
  {
   "cell_type": "code",
   "execution_count": 4,
   "id": "81f95d10",
   "metadata": {},
   "outputs": [
    {
     "name": "stdout",
     "output_type": "stream",
     "text": [
      "How many times CAT appears in chimp: 4\n"
     ]
    }
   ],
   "source": [
    "# .count() counts how many times sub appears in string\n",
    "how_many = chimp.count(codon)\n",
    "print('How many times', codon, 'appears in chimp:', how_many)"
   ]
  },
  {
   "cell_type": "code",
   "execution_count": 5,
   "id": "73bbcdcd",
   "metadata": {},
   "outputs": [
    {
     "name": "stdout",
     "output_type": "stream",
     "text": [
      "First CAT index:  20\n"
     ]
    }
   ],
   "source": [
    "# .find() returns the lowest index\n",
    "first_index = chimp.find(codon)\n",
    "print('First', codon, 'index: ', first_index)"
   ]
  },
  {
   "cell_type": "code",
   "execution_count": 6,
   "id": "2350484d",
   "metadata": {},
   "outputs": [
    {
     "name": "stdout",
     "output_type": "stream",
     "text": [
      "Second CAT index:  24\n"
     ]
    }
   ],
   "source": [
    "second_index = chimp.find(codon, first_index + len(codon))\n",
    "print('Second',  codon, 'index: ', second_index)"
   ]
  },
  {
   "cell_type": "code",
   "execution_count": 7,
   "id": "083d6746",
   "metadata": {},
   "outputs": [
    {
     "name": "stdout",
     "output_type": "stream",
     "text": [
      "Third CAT index:  49\n"
     ]
    }
   ],
   "source": [
    "# .find() returns -1 if cannot find sub in string\n",
    "third_index = chimp.find(codon, 27, 55)\n",
    "print('Third', codon, 'index: ', third_index)"
   ]
  },
  {
   "cell_type": "code",
   "execution_count": 8,
   "id": "dfada066",
   "metadata": {},
   "outputs": [
    {
     "name": "stdout",
     "output_type": "stream",
     "text": [
      "Last CAT index:  65\n"
     ]
    }
   ],
   "source": [
    "# .rfind() returns the highest index\n",
    "last_index = chimp.rfind(codon);\n",
    "print('Last', codon, 'index: ', last_index)"
   ]
  },
  {
   "cell_type": "code",
   "execution_count": 9,
   "id": "481454fd",
   "metadata": {},
   "outputs": [],
   "source": [
    "# References:\n",
    "# https://docs.python.org/3/library/stdtypes.html#str.find\n",
    "# https://docs.python.org/3/library/stdtypes.html#str.rfind\n",
    "# https://docs.python.org/3/library/stdtypes.html#string-methods"
   ]
  },
  {
   "cell_type": "code",
   "execution_count": 10,
   "id": "fdf92ebb",
   "metadata": {},
   "outputs": [],
   "source": [
    "# https://en.wikipedia.org/wiki/D-loop\n",
    "# http://www.ncbi.nlm.nih.gov/nuccore/AF176731.1?report=fasta"
   ]
  }
 ],
 "metadata": {
  "kernelspec": {
   "display_name": "Python 3 (ipykernel)",
   "language": "python",
   "name": "python3"
  },
  "language_info": {
   "codemirror_mode": {
    "name": "ipython",
    "version": 3
   },
   "file_extension": ".py",
   "mimetype": "text/x-python",
   "name": "python",
   "nbconvert_exporter": "python",
   "pygments_lexer": "ipython3",
   "version": "3.11.3"
  }
 },
 "nbformat": 4,
 "nbformat_minor": 5
}

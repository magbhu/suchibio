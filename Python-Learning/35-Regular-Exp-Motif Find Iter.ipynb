{
 "cells": [
  {
   "cell_type": "code",
   "execution_count": 1,
   "id": "dbf0e824",
   "metadata": {},
   "outputs": [],
   "source": [
    "import re\n",
    "import sys"
   ]
  },
  {
   "cell_type": "code",
   "execution_count": 2,
   "id": "da1ede90",
   "metadata": {},
   "outputs": [
    {
     "name": "stdout",
     "output_type": "stream",
     "text": [
      "DNA_sequence: AATGAAGGGCCGCTACGATAAGGAACTTCGTAATTTCAG\n"
     ]
    }
   ],
   "source": [
    "DNA_sequence = 'AATGAAGGGCCGCTACGATAAGGAACTTCGTAATTTCAG'\n",
    "print('DNA_sequence:', DNA_sequence)"
   ]
  },
  {
   "cell_type": "code",
   "execution_count": 3,
   "id": "768bdabb",
   "metadata": {},
   "outputs": [
    {
     "name": "stdout",
     "output_type": "stream",
     "text": [
      "Motif: ([AT]){3,6}\n"
     ]
    }
   ],
   "source": [
    "motif = r'([AT]){3,6}'\n",
    "print('Motif:', motif)"
   ]
  },
  {
   "cell_type": "code",
   "execution_count": 4,
   "id": "f1265f54",
   "metadata": {},
   "outputs": [],
   "source": [
    "# Checking if motif is a valid regular expression\n",
    "try:\n",
    "    re.compile(motif)\n",
    "except:\n",
    "    print('Invalid regular expression, exiting the program!')\n",
    "    sys.exit()"
   ]
  },
  {
   "cell_type": "code",
   "execution_count": 5,
   "id": "985ff4e4",
   "metadata": {},
   "outputs": [],
   "source": [
    "motif_found = False\n",
    "matches = re.finditer(motif, DNA_sequence)"
   ]
  },
  {
   "cell_type": "code",
   "execution_count": 6,
   "id": "559de32f",
   "metadata": {},
   "outputs": [
    {
     "name": "stdout",
     "output_type": "stream",
     "text": [
      "--------------------\n",
      "00-03: AAT\n",
      "02-03: T\n",
      "--------------------\n",
      "17-21: ATAA\n",
      "20-21: A\n",
      "--------------------\n",
      "30-36: TAATTT\n",
      "35-36: T\n"
     ]
    }
   ],
   "source": [
    "for match in matches:\n",
    "    print('-'*20)\n",
    "    print('%02d-%02d: %s' % (match.start(0), match.end(0), match.group(0)))\n",
    "    print('%02d-%02d: %s' % (match.start(1), match.end(1), match.group(1)))\n",
    "    motif_found = True"
   ]
  },
  {
   "cell_type": "code",
   "execution_count": 7,
   "id": "67333c23",
   "metadata": {},
   "outputs": [],
   "source": [
    "if motif_found == False:\n",
    "    print('Did not find any motif match!')"
   ]
  },
  {
   "cell_type": "code",
   "execution_count": null,
   "id": "f700ada3",
   "metadata": {},
   "outputs": [],
   "source": [
    "# References:\n",
    "# https://docs.python.org/3/library/re.html#re.finditer\n",
    "# https://docs.python.org/3/library/re.html#finding-all-adverbs\n",
    "# https://docs.python.org/3/library/functions.html#any\n",
    "# https://docs.python.org/3/library/re.html#module-re\n",
    "# https://docs.python.org/3/library/re.html#raw-string-notation\n",
    "# https://docs.python.org/3/library/re.html#re.compile"
   ]
  },
  {
   "cell_type": "code",
   "execution_count": 8,
   "id": "efe48b25",
   "metadata": {},
   "outputs": [],
   "source": [
    "# http://www.ncbi.nlm.nih.gov/nuccore/XM_002295694.2?report=fasta"
   ]
  },
  {
   "cell_type": "code",
   "execution_count": null,
   "id": "c32fa779",
   "metadata": {},
   "outputs": [],
   "source": []
  }
 ],
 "metadata": {
  "kernelspec": {
   "display_name": "Python 3 (ipykernel)",
   "language": "python",
   "name": "python3"
  },
  "language_info": {
   "codemirror_mode": {
    "name": "ipython",
    "version": 3
   },
   "file_extension": ".py",
   "mimetype": "text/x-python",
   "name": "python",
   "nbconvert_exporter": "python",
   "pygments_lexer": "ipython3",
   "version": "3.11.3"
  }
 },
 "nbformat": 4,
 "nbformat_minor": 5
}

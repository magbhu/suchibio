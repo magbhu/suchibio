{
 "cells": [
  {
   "cell_type": "code",
   "execution_count": 1,
   "id": "e2d9f370",
   "metadata": {},
   "outputs": [
    {
     "name": "stdout",
     "output_type": "stream",
     "text": [
      "Direct strand:        5' AGTTGTTGATCTGTGTGAGTCAG 3'\n"
     ]
    }
   ],
   "source": [
    "zika_DNA = 'AGTTGTTGATCTGTGTGAGTCAG'\n",
    "print(\"Direct strand:        5' \" + zika_DNA + \" 3'\")"
   ]
  },
  {
   "cell_type": "code",
   "execution_count": 2,
   "id": "1096e2a4",
   "metadata": {},
   "outputs": [],
   "source": [
    "complements = zika_DNA.maketrans('acgtACGT', 'tgcaTGCA')\n",
    "complement_seq = zika_DNA.translate(complements)"
   ]
  },
  {
   "cell_type": "code",
   "execution_count": 3,
   "id": "28dd06eb",
   "metadata": {},
   "outputs": [
    {
     "name": "stdout",
     "output_type": "stream",
     "text": [
      "                         |||||||||||||||||||||||\n",
      "Complementary strand: 3' TCAACAACTAGACACACTCAGTC 5'\n"
     ]
    }
   ],
   "source": [
    "bonds = \" \"*25 + \"|\"*len(zika_DNA)\n",
    "print(bonds)\n",
    "print(\"Complementary strand: 3' \" + complement_seq + \" 5'\")"
   ]
  },
  {
   "cell_type": "code",
   "execution_count": 5,
   "id": "83a10fe9",
   "metadata": {},
   "outputs": [],
   "source": [
    "# References:\n",
    "# https://docs.python.org/3/library/stdtypes.html#str.maketrans\n",
    "# https://docs.python.org/3/library/stdtypes.html#str.translate"
   ]
  },
  {
   "cell_type": "code",
   "execution_count": 6,
   "id": "8165cda8",
   "metadata": {},
   "outputs": [],
   "source": [
    "# http://www.ncbi.nlm.nih.gov/nuccore/226377833?report=fasta\n",
    "# https://en.wikipedia.org/wiki/DNA"
   ]
  },
  {
   "cell_type": "code",
   "execution_count": null,
   "id": "3c1bbcb3",
   "metadata": {},
   "outputs": [],
   "source": []
  }
 ],
 "metadata": {
  "kernelspec": {
   "display_name": "Python 3 (ipykernel)",
   "language": "python",
   "name": "python3"
  },
  "language_info": {
   "codemirror_mode": {
    "name": "ipython",
    "version": 3
   },
   "file_extension": ".py",
   "mimetype": "text/x-python",
   "name": "python",
   "nbconvert_exporter": "python",
   "pygments_lexer": "ipython3",
   "version": "3.11.3"
  }
 },
 "nbformat": 4,
 "nbformat_minor": 5
}

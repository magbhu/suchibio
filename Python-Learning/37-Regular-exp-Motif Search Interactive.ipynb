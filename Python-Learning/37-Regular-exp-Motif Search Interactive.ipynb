{
 "cells": [
  {
   "cell_type": "code",
   "execution_count": 2,
   "id": "8fff42dc",
   "metadata": {},
   "outputs": [],
   "source": [
    "import re"
   ]
  },
  {
   "cell_type": "code",
   "execution_count": 3,
   "id": "9e5a51b8",
   "metadata": {},
   "outputs": [
    {
     "name": "stdout",
     "output_type": "stream",
     "text": [
      "DNA_sequence: AATGAAGGGCCGCTACGATAAGGAACTTCGTAATTTCAG\n"
     ]
    }
   ],
   "source": [
    "DNA_sequence = 'AATGAAGGGCCGCTACGATAAGGAACTTCGTAATTTCAG'\n",
    "print('DNA_sequence:', DNA_sequence)"
   ]
  },
  {
   "cell_type": "code",
   "execution_count": null,
   "id": "d7e77a59",
   "metadata": {},
   "outputs": [],
   "source": [
    "while True:\n",
    "    motif = input('Enter a motif to search for or enter to exit : ')\n",
    "    if motif == '':\n",
    "        break\n",
    "    print('Motif:', motif)\n",
    "    print('-'*len(DNA_sequence))\n",
    "    # Checking if motif is a valid regular expression\n",
    "    try:\n",
    "        re.compile(motif)\n",
    "    except:\n",
    "        print('Invalid regular expression!')\n",
    "    else:\n",
    "       motif_found = False\n",
    "       matches = re.finditer(motif, DNA_sequence)\n",
    "       for match in matches:\n",
    "           for i in range(0, len(match.groups()) + 1):\n",
    "               print('group%02d %02d-%02d: %s' % (i, match.start(i), match.end(i), match.group(i)))\n",
    "           DNA_sequence = DNA_sequence[0:match.start()] + match.group().lower() + DNA_sequence[match.end():]\n",
    "           print('-'*len(DNA_sequence))\n",
    "           motif_found = True\n",
    "       if motif_found == True:\n",
    "           print('Motif search is completed:')\n",
    "           print(DNA_sequence)\n",
    "           DNA_sequence = DNA_sequence.upper()\n",
    "           print(DNA_sequence)\n",
    "       else:\n",
    "           print('Did not find any motif match!')\n",
    "    print('~'*len(DNA_sequence))"
   ]
  },
  {
   "cell_type": "code",
   "execution_count": null,
   "id": "4ae009e6",
   "metadata": {},
   "outputs": [],
   "source": [
    "print('Bye!')"
   ]
  },
  {
   "cell_type": "code",
   "execution_count": null,
   "id": "a413cb26",
   "metadata": {},
   "outputs": [],
   "source": [
    "# References:\n",
    "# https://docs.python.org/3/library/re.html#re.finditer\n",
    "# https://docs.python.org/3/library/re.html#module-re\n",
    "# https://docs.python.org/3/library/re.html#raw-string-notation\n",
    "# https://docs.python.org/3/library/re.html#re.compile"
   ]
  },
  {
   "cell_type": "code",
   "execution_count": null,
   "id": "f5aef033",
   "metadata": {},
   "outputs": [],
   "source": [
    "# http://www.ncbi.nlm.nih.gov/nuccore/XM_002295694.2?report=fasta"
   ]
  },
  {
   "cell_type": "code",
   "execution_count": null,
   "id": "c0a61b76",
   "metadata": {},
   "outputs": [],
   "source": []
  }
 ],
 "metadata": {
  "kernelspec": {
   "display_name": "Python 3 (ipykernel)",
   "language": "python",
   "name": "python3"
  },
  "language_info": {
   "codemirror_mode": {
    "name": "ipython",
    "version": 3
   },
   "file_extension": ".py",
   "mimetype": "text/x-python",
   "name": "python",
   "nbconvert_exporter": "python",
   "pygments_lexer": "ipython3",
   "version": "3.11.3"
  }
 },
 "nbformat": 4,
 "nbformat_minor": 5
}

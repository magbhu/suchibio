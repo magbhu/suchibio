{
 "cells": [
  {
   "cell_type": "code",
   "execution_count": 1,
   "id": "447c38a1",
   "metadata": {},
   "outputs": [],
   "source": [
    "# String variables and literals\n",
    "protein = \"GFP\"                    # Winner of 2008 Nobel in chemistry\n",
    "protein_seq_begin = 'MSKGEELFTG'\n",
    "protein_seq_end = 'HGMDELYK'"
   ]
  },
  {
   "cell_type": "code",
   "execution_count": 2,
   "id": "d009b5d1",
   "metadata": {},
   "outputs": [
    {
     "name": "stdout",
     "output_type": "stream",
     "text": [
      "Protein sequence of GFP: MSKGEELFTG...HGMDELYK\n"
     ]
    }
   ],
   "source": [
    "# Concatenation of strings\n",
    "protein_seq = protein_seq_begin + '...' + protein_seq_end\n",
    "print('Protein sequence of GFP: ' + protein_seq)"
   ]
  },
  {
   "cell_type": "code",
   "execution_count": 3,
   "id": "3a02fc32",
   "metadata": {},
   "outputs": [
    {
     "name": "stdout",
     "output_type": "stream",
     "text": [
      "DNA sequence: ATGAGTAAAG...ACTATACAAA\n"
     ]
    }
   ],
   "source": [
    "# String method str.upper()\n",
    "DNA_seq = 'atgagtaaag...actatacaaa'\n",
    "DNA_seq = DNA_seq.upper()\n",
    "print('DNA sequence: ' + DNA_seq)"
   ]
  },
  {
   "cell_type": "code",
   "execution_count": 4,
   "id": "11f01b55",
   "metadata": {},
   "outputs": [
    {
     "name": "stdout",
     "output_type": "stream",
     "text": [
      "The second nucleotide: T\n",
      "The last nucleotide: A\n"
     ]
    }
   ],
   "source": [
    "# Forward index starts with 0 and increases\n",
    "# Backward index starts with -1 and decreases\n",
    "print('The second nucleotide:', DNA_seq[1])\n",
    "print('The last nucleotide:', DNA_seq[-1])"
   ]
  },
  {
   "cell_type": "code",
   "execution_count": 5,
   "id": "3da912d1",
   "metadata": {},
   "outputs": [
    {
     "name": "stdout",
     "output_type": "stream",
     "text": [
      "First codon: ATG\n",
      "Last codon: AAA\n"
     ]
    }
   ],
   "source": [
    "# Slicing a string\n",
    "first_codon = DNA_seq[0:3]         # index 3 excluded\n",
    "last_codon = DNA_seq[-3:]\n",
    "print('First codon:', first_codon)\n",
    "print('Last codon:', last_codon)"
   ]
  },
  {
   "cell_type": "code",
   "execution_count": 6,
   "id": "77144601",
   "metadata": {},
   "outputs": [],
   "source": [
    "# References:\n",
    "# https://docs.python.org/3/tutorial/introduction.html#strings\n",
    "# https://docs.python.org/3/library/stdtypes.html#common-sequence-operations\n",
    "# https://docs.python.org/3/library/stdtypes.html#text-sequence-type-str\n",
    "# https://docs.python.org/3/library/functions.html#len"
   ]
  },
  {
   "cell_type": "code",
   "execution_count": null,
   "id": "299b2195",
   "metadata": {},
   "outputs": [],
   "source": [
    "# https://en.wikipedia.org/wiki/Green_fluorescent_protein\n",
    "# https://www.nobelprize.org/prizes/chemistry/2008/summary/\n",
    "# https://scienceblogs.com/pharyngula/2008/10/08/gfp-wins-nobel-prize\n",
    "# https://en.wikipedia.org/wiki/DNA_codon_table"
   ]
  }
 ],
 "metadata": {
  "kernelspec": {
   "display_name": "Python 3 (ipykernel)",
   "language": "python",
   "name": "python3"
  },
  "language_info": {
   "codemirror_mode": {
    "name": "ipython",
    "version": 3
   },
   "file_extension": ".py",
   "mimetype": "text/x-python",
   "name": "python",
   "nbconvert_exporter": "python",
   "pygments_lexer": "ipython3",
   "version": "3.11.3"
  }
 },
 "nbformat": 4,
 "nbformat_minor": 5
}

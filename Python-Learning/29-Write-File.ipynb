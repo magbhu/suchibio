{
 "cells": [
  {
   "cell_type": "code",
   "execution_count": 1,
   "id": "6ea99660",
   "metadata": {},
   "outputs": [],
   "source": [
    "import os.path"
   ]
  },
  {
   "cell_type": "code",
   "execution_count": 2,
   "id": "552b4abd",
   "metadata": {},
   "outputs": [],
   "source": [
    "filename = 'Rosetta_partial.fasta'"
   ]
  },
  {
   "cell_type": "code",
   "execution_count": 3,
   "id": "c6f1b490",
   "metadata": {},
   "outputs": [],
   "source": [
    "with open(filename, 'w') as f:\n",
    "    print('>JB_007 Rosetta partial genome', file=f)\n",
    "    f.write('ATG')\n",
    "    f.write('GGT')\n",
    "    f.write('GGC')\n",
    "    f.write('GGA')\n",
    "    f.write('GGG')\n",
    "    f.write('TGA')\n",
    "    f.write('xxxACCATG')\n",
    "    f.write('\\n')"
   ]
  },
  {
   "cell_type": "code",
   "execution_count": 4,
   "id": "3558056f",
   "metadata": {},
   "outputs": [
    {
     "name": "stdout",
     "output_type": "stream",
     "text": [
      "Rosetta partial genome is written to Rosetta_partial.fasta file successfully!\n"
     ]
    }
   ],
   "source": [
    "if os.path.isfile(filename):\n",
    "   print('Rosetta partial genome is written to', filename, 'file successfully!')"
   ]
  },
  {
   "cell_type": "code",
   "execution_count": 5,
   "id": "afeabe24",
   "metadata": {},
   "outputs": [],
   "source": [
    "# References:\n",
    "# http://www.esa.int/Our_Activities/Space_Science/Rosetta/Science_on_the_surface_of_a_comet\n",
    "# https://en.wikipedia.org/wiki/DNA_codon_table\n",
    "# https://docs.python.org/3/tutorial/inputoutput.html#reading-and-writing-files\n",
    "# https://docs.python.org/3/reference/compound_stmts.html#the-with-statement\n",
    "# https://docs.python.org/3/library/functions.html#open\n",
    "# https://docs.python.org/3/library/functions.html#print"
   ]
  },
  {
   "cell_type": "code",
   "execution_count": null,
   "id": "e0f3c87b",
   "metadata": {},
   "outputs": [],
   "source": []
  }
 ],
 "metadata": {
  "kernelspec": {
   "display_name": "Python 3 (ipykernel)",
   "language": "python",
   "name": "python3"
  },
  "language_info": {
   "codemirror_mode": {
    "name": "ipython",
    "version": 3
   },
   "file_extension": ".py",
   "mimetype": "text/x-python",
   "name": "python",
   "nbconvert_exporter": "python",
   "pygments_lexer": "ipython3",
   "version": "3.11.3"
  }
 },
 "nbformat": 4,
 "nbformat_minor": 5
}

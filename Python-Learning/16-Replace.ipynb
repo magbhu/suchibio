{
 "cells": [
  {
   "cell_type": "code",
   "execution_count": 1,
   "id": "bb8171fa",
   "metadata": {},
   "outputs": [],
   "source": [
    "import re"
   ]
  },
  {
   "cell_type": "code",
   "execution_count": 2,
   "id": "31f8d3ed",
   "metadata": {},
   "outputs": [
    {
     "name": "stdout",
     "output_type": "stream",
     "text": [
      "Original Zika DNA\t\t: 601 catgtgtgac gccaccatga gttatgagtg\n"
     ]
    }
   ],
   "source": [
    "zika_DNA = '601 catgtgtgac gccaccatga gttatgagtg'\n",
    "print('Original Zika DNA\\t\\t:', zika_DNA)"
   ]
  },
  {
   "cell_type": "code",
   "execution_count": 3,
   "id": "df809132",
   "metadata": {},
   "outputs": [
    {
     "name": "stdout",
     "output_type": "stream",
     "text": [
      "Replace space with nothing\t: 601catgtgtgac gccaccatga gttatgagtg\n"
     ]
    }
   ],
   "source": [
    "# Replace space with nothing one time\n",
    "zika_DNA = zika_DNA.replace(' ', '', 1)\n",
    "print('Replace space with nothing\\t:', zika_DNA)"
   ]
  },
  {
   "cell_type": "code",
   "execution_count": 4,
   "id": "28e5664b",
   "metadata": {},
   "outputs": [
    {
     "name": "stdout",
     "output_type": "stream",
     "text": [
      "Replace spaces with nothing\t: 601catgtgtgacgccaccatgagttatgagtg\n"
     ]
    }
   ],
   "source": [
    "# Replace all space characters with nothing\n",
    "zika_DNA = zika_DNA.replace(' ', '')\n",
    "print('Replace spaces with nothing\\t:', zika_DNA)"
   ]
  },
  {
   "cell_type": "code",
   "execution_count": 5,
   "id": "08019495",
   "metadata": {},
   "outputs": [
    {
     "name": "stdout",
     "output_type": "stream",
     "text": [
      "Replace numbers with nothing\t: catgtgtgacgccaccatgagttatgagtg\n"
     ]
    }
   ],
   "source": [
    "# Substitute all digits with nothing using regular expressions\n",
    "zika_DNA = re.sub(r'[1234567890]', '', zika_DNA)\n",
    "print('Replace numbers with nothing\\t:', zika_DNA)"
   ]
  },
  {
   "cell_type": "code",
   "execution_count": null,
   "id": "e74e57c6",
   "metadata": {},
   "outputs": [],
   "source": [
    "# References:\n",
    "# https://docs.python.org/3/library/stdtypes.html#str.replace"
   ]
  },
  {
   "cell_type": "code",
   "execution_count": 6,
   "id": "76ab54e1",
   "metadata": {},
   "outputs": [],
   "source": [
    "# http://www.ncbi.nlm.nih.gov/nuccore/226377833?report=genbank"
   ]
  },
  {
   "cell_type": "code",
   "execution_count": null,
   "id": "5fc25e60",
   "metadata": {},
   "outputs": [],
   "source": []
  }
 ],
 "metadata": {
  "kernelspec": {
   "display_name": "Python 3 (ipykernel)",
   "language": "python",
   "name": "python3"
  },
  "language_info": {
   "codemirror_mode": {
    "name": "ipython",
    "version": 3
   },
   "file_extension": ".py",
   "mimetype": "text/x-python",
   "name": "python",
   "nbconvert_exporter": "python",
   "pygments_lexer": "ipython3",
   "version": "3.11.3"
  }
 },
 "nbformat": 4,
 "nbformat_minor": 5
}

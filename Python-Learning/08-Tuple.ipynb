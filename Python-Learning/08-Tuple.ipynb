{
 "cells": [
  {
   "cell_type": "code",
   "execution_count": 9,
   "id": "6f862885",
   "metadata": {},
   "outputs": [],
   "source": [
    "# Constructing tuples\n",
    "Histidine = ('H', 'CAT', 'CAC')\n",
    "Lysine = 'K', 'AAA', 'AAG'\n",
    "Arginine = ('R', 'CGT', 'CGC', 'CGA', 'CGG', 'AGA', 'AGG')"
   ]
  },
  {
   "cell_type": "code",
   "execution_count": 10,
   "id": "75ec551b",
   "metadata": {},
   "outputs": [
    {
     "name": "stdout",
     "output_type": "stream",
     "text": [
      "Histidine: ('H', 'CAT', 'CAC')\n",
      "Lysine: ('K', 'AAA', 'AAG')\n",
      "Arginine: ('R', 'CGT', 'CGC', 'CGA', 'CGG', 'AGA', 'AGG')\n",
      "\n"
     ]
    }
   ],
   "source": [
    "print('Histidine:', Histidine)\n",
    "print('Lysine:', Lysine)\n",
    "print('Arginine:', Arginine)\n",
    "print()"
   ]
  },
  {
   "cell_type": "code",
   "execution_count": 11,
   "id": "640e827d",
   "metadata": {},
   "outputs": [
    {
     "name": "stdout",
     "output_type": "stream",
     "text": [
      "Basic amino acids: [('H', 'CAT', 'CAC'), ('K', 'AAA', 'AAG'), ('R', 'CGT', 'CGC', 'CGA', 'CGG', 'AGA', 'AGG')]\n",
      "\n"
     ]
    }
   ],
   "source": [
    "# Constructing a list of tuples\n",
    "basic = [Histidine, Lysine]\n",
    "basic.append(Arginine)\n",
    "print('Basic amino acids:', basic)\n",
    "print()"
   ]
  },
  {
   "cell_type": "code",
   "execution_count": 12,
   "id": "c7bf6cba",
   "metadata": {},
   "outputs": [
    {
     "name": "stdout",
     "output_type": "stream",
     "text": [
      "His: ('H', 'CAT', 'CAC')\n",
      "His codons: ('CAT', 'CAC')\n",
      "codon1: CAT\n",
      "codon2: CAC\n",
      "\n"
     ]
    }
   ],
   "source": [
    "# Accessing elements of a list of tuples\n",
    "His = basic[0]\n",
    "print('His:', His)\n",
    "His_codons = basic[0][1:]\n",
    "print('His codons:', His_codons)\n",
    "codon1, codon2 = His_codons\n",
    "print('codon1:', codon1)\n",
    "print('codon2:', codon2)\n",
    "print()"
   ]
  },
  {
   "cell_type": "code",
   "execution_count": 13,
   "id": "9e8183e7",
   "metadata": {},
   "outputs": [
    {
     "name": "stdout",
     "output_type": "stream",
     "text": [
      "Protein: HKR\n"
     ]
    }
   ],
   "source": [
    "protein_seq = basic[0][0] + basic[1][0] + basic[2][0]\n",
    "print('Protein:', protein_seq)"
   ]
  },
  {
   "cell_type": "code",
   "execution_count": 14,
   "id": "420bc917",
   "metadata": {},
   "outputs": [],
   "source": [
    "# References:\n",
    "# https://docs.python.org/3/library/stdtypes.html#tuples\n",
    "# https://docs.python.org/3/library/stdtypes.html#common-sequence-operations"
   ]
  },
  {
   "cell_type": "code",
   "execution_count": 15,
   "id": "cc45141e",
   "metadata": {},
   "outputs": [],
   "source": [
    "# https://en.wikipedia.org/wiki/DNA_codon_table"
   ]
  },
  {
   "cell_type": "code",
   "execution_count": null,
   "id": "14491642",
   "metadata": {},
   "outputs": [],
   "source": []
  }
 ],
 "metadata": {
  "kernelspec": {
   "display_name": "Python 3 (ipykernel)",
   "language": "python",
   "name": "python3"
  },
  "language_info": {
   "codemirror_mode": {
    "name": "ipython",
    "version": 3
   },
   "file_extension": ".py",
   "mimetype": "text/x-python",
   "name": "python",
   "nbconvert_exporter": "python",
   "pygments_lexer": "ipython3",
   "version": "3.11.3"
  }
 },
 "nbformat": 4,
 "nbformat_minor": 5
}
